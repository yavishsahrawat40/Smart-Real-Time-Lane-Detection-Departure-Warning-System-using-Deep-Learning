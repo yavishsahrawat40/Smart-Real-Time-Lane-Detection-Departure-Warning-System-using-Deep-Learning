{
 "cells": [
  {
   "cell_type": "code",
   "execution_count": 7,
   "id": "990defff",
   "metadata": {},
   "outputs": [],
   "source": [
    "import os\n",
    "import json\n",
    "import cv2\n",
    "import numpy as np\n",
    "from tqdm import tqdm"
   ]
  },
  {
   "cell_type": "code",
   "execution_count": 8,
   "id": "aca07bf7",
   "metadata": {},
   "outputs": [],
   "source": [
    "# Paths\n",
    "DATASET_DIR = \"archive/TUSimple/train_set/\"\n",
    "OUTPUT_IMG_DIR = \"processed/images/\"\n",
    "OUTPUT_MASK_DIR = \"processed/masks/\"\n",
    "ANNOTATION_FILE = \"processed/annotations.json\""
   ]
  },
  {
   "cell_type": "code",
   "execution_count": 9,
   "id": "9919235d",
   "metadata": {},
   "outputs": [],
   "source": [
    "# Create output folders\n",
    "os.makedirs(OUTPUT_IMG_DIR, exist_ok=True)\n",
    "os.makedirs(OUTPUT_MASK_DIR, exist_ok=True)\n"
   ]
  },
  {
   "cell_type": "code",
   "execution_count": 10,
   "id": "2ff45ef7",
   "metadata": {},
   "outputs": [],
   "source": [
    "# All label files\n",
    "LABEL_FILES = [\n",
    "    \"label_data_0313.json\",\n",
    "    \"label_data_0531.json\",\n",
    "    \"label_data_0601.json\"\n",
    "]"
   ]
  },
  {
   "cell_type": "code",
   "execution_count": 12,
   "id": "0fd0fc5b",
   "metadata": {},
   "outputs": [
    {
     "name": "stdout",
     "output_type": "stream",
     "text": [
      "Preprocessing and saving images + masks...\n"
     ]
    }
   ],
   "source": [
    "processed_annotations = []\n",
    "\n",
    "# Target size for training\n",
    "IMG_WIDTH, IMG_HEIGHT = 512, 288\n",
    "print(\"Preprocessing and saving images + masks...\")"
   ]
  },
  {
   "cell_type": "code",
   "execution_count": 13,
   "id": "771b572b",
   "metadata": {},
   "outputs": [
    {
     "name": "stdout",
     "output_type": "stream",
     "text": [
      "\n",
      "📂 Processing label_data_0313.json...\n"
     ]
    },
    {
     "name": "stderr",
     "output_type": "stream",
     "text": [
      "100%|██████████| 2858/2858 [01:10<00:00, 40.79it/s]\n"
     ]
    },
    {
     "name": "stdout",
     "output_type": "stream",
     "text": [
      "\n",
      "📂 Processing label_data_0531.json...\n"
     ]
    },
    {
     "name": "stderr",
     "output_type": "stream",
     "text": [
      "100%|██████████| 358/358 [00:09<00:00, 38.36it/s]\n"
     ]
    },
    {
     "name": "stdout",
     "output_type": "stream",
     "text": [
      "\n",
      "📂 Processing label_data_0601.json...\n"
     ]
    },
    {
     "name": "stderr",
     "output_type": "stream",
     "text": [
      "100%|██████████| 410/410 [00:10<00:00, 39.54it/s]\n"
     ]
    }
   ],
   "source": [
    "idx = 0\n",
    "for label_file in LABEL_FILES:\n",
    "    label_path = os.path.join(DATASET_DIR, label_file)\n",
    "    print(f\"\\n📂 Processing {label_file}...\")\n",
    "\n",
    "    with open(label_path, \"r\") as f:\n",
    "        labels = [json.loads(line) for line in f]\n",
    "\n",
    "    for sample in tqdm(labels):\n",
    "        img_path = os.path.join(DATASET_DIR, sample['raw_file'])\n",
    "        lanes = sample['lanes']\n",
    "        h_samples = sample['h_samples']\n",
    "\n",
    "        # Load and resize image\n",
    "        img = cv2.imread(img_path)\n",
    "        if img is None:\n",
    "            continue\n",
    "        img = cv2.cvtColor(img, cv2.COLOR_BGR2RGB)\n",
    "        img = cv2.resize(img, (IMG_WIDTH, IMG_HEIGHT))\n",
    "\n",
    "        # Create blank mask\n",
    "        mask = np.zeros((IMG_HEIGHT, IMG_WIDTH), dtype=np.uint8)\n",
    "\n",
    "        # Scale factors (since we resized image)\n",
    "        orig_h, orig_w = sample.get(\"height\", 720), sample.get(\"width\", 1280)  # fallback\n",
    "        scale_x, scale_y = IMG_WIDTH / orig_w, IMG_HEIGHT / orig_h\n",
    "\n",
    "        # Draw lanes on mask\n",
    "        for lane in lanes:\n",
    "            points = [(int(x * scale_x), int(y * scale_y)) \n",
    "                      for x, y in zip(lane, h_samples) if x != -2]\n",
    "            if len(points) > 1:\n",
    "                cv2.polylines(mask, [np.array(points)], isClosed=False, color=255, thickness=5)\n",
    "\n",
    "        # Save processed image + mask\n",
    "        img_filename = f\"{idx:06d}.png\"\n",
    "        mask_filename = f\"{idx:06d}.png\"\n",
    "\n",
    "        cv2.imwrite(os.path.join(OUTPUT_IMG_DIR, img_filename), cv2.cvtColor(img, cv2.COLOR_RGB2BGR))\n",
    "        cv2.imwrite(os.path.join(OUTPUT_MASK_DIR, mask_filename), mask)\n",
    "\n",
    "        processed_annotations.append({\n",
    "            \"image\": os.path.join(OUTPUT_IMG_DIR, img_filename),\n",
    "            \"mask\": os.path.join(OUTPUT_MASK_DIR, mask_filename)\n",
    "        })\n",
    "\n",
    "        idx += 1\n"
   ]
  },
  {
   "cell_type": "code",
   "execution_count": 14,
   "id": "7659fd8f",
   "metadata": {},
   "outputs": [
    {
     "name": "stdout",
     "output_type": "stream",
     "text": [
      "\n",
      "✅ Preprocessing complete. Saved 3626 images + masks from all 3 label files.\n"
     ]
    }
   ],
   "source": [
    "# Save annotation index\n",
    "with open(ANNOTATION_FILE, \"w\") as f:\n",
    "    json.dump(processed_annotations, f, indent=2)\n",
    "\n",
    "print(f\"\\n✅ Preprocessing complete. Saved {len(processed_annotations)} images + masks from all 3 label files.\")\n"
   ]
  },
  {
   "cell_type": "code",
   "execution_count": null,
   "id": "b5f7f50e",
   "metadata": {},
   "outputs": [],
   "source": []
  }
 ],
 "metadata": {
  "kernelspec": {
   "display_name": "lane_detect",
   "language": "python",
   "name": "python3"
  },
  "language_info": {
   "codemirror_mode": {
    "name": "ipython",
    "version": 3
   },
   "file_extension": ".py",
   "mimetype": "text/x-python",
   "name": "python",
   "nbconvert_exporter": "python",
   "pygments_lexer": "ipython3",
   "version": "3.10.18"
  }
 },
 "nbformat": 4,
 "nbformat_minor": 5
}
