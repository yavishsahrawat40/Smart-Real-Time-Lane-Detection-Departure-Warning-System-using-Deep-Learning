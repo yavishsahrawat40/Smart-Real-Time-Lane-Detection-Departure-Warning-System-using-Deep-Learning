{
 "cells": [
  {
   "cell_type": "code",
   "execution_count": null,
   "metadata": {
    "_cell_guid": "b1076dfc-b9ad-4769-8c92-a6c4dae69d19",
    "_uuid": "8f2839f25d086af736a60e9eeb907d3b93b6e0e5",
    "execution": {
     "iopub.execute_input": "2025-09-15T11:09:35.435994Z",
     "iopub.status.busy": "2025-09-15T11:09:35.435217Z",
     "iopub.status.idle": "2025-09-15T11:09:35.440681Z",
     "shell.execute_reply": "2025-09-15T11:09:35.440095Z",
     "shell.execute_reply.started": "2025-09-15T11:09:35.435963Z"
    },
    "trusted": true
   },
   "outputs": [],
   "source": [
    "import os\n",
    "import json\n",
    "import numpy as np\n",
    "from PIL import Image\n",
    "from tqdm import tqdm\n",
    "import torch\n",
    "import torch.nn as nn\n",
    "import torch.nn.functional as F\n",
    "import torch.optim as optim\n",
    "from torch.cuda.amp import autocast, GradScaler\n",
    "from torch.utils.data import Dataset, DataLoader\n",
    "from torch.optim.lr_scheduler import ReduceLROnPlateau\n",
    "import albumentations as A\n",
    "from albumentations.pytorch import ToTensorV2"
   ]
  },
  {
   "cell_type": "code",
   "execution_count": 26,
   "metadata": {
    "execution": {
     "iopub.execute_input": "2025-09-15T11:09:41.375047Z",
     "iopub.status.busy": "2025-09-15T11:09:41.374203Z",
     "iopub.status.idle": "2025-09-15T11:09:41.381133Z",
     "shell.execute_reply": "2025-09-15T11:09:41.380437Z",
     "shell.execute_reply.started": "2025-09-15T11:09:41.375014Z"
    },
    "trusted": true
   },
   "outputs": [],
   "source": [
    "# ===================== Dataset =====================\n",
    "class LaneDataset(Dataset):\n",
    "    def __init__(self, annotation_path, root_dirs, transform=None):\n",
    "        with open(annotation_path, 'r') as f:\n",
    "            self.lines = f.readlines()\n",
    "        self.root_dirs = root_dirs\n",
    "        self.transform = transform\n",
    "\n",
    "    def __len__(self):\n",
    "        return len(self.lines)\n",
    "\n",
    "    def __getitem__(self, idx):\n",
    "        ann = json.loads(self.lines[idx])\n",
    "        source = ann['source']\n",
    "        root_dir = self.root_dirs[source]\n",
    "\n",
    "\n",
    "        img_path = os.path.join(root_dir, ann['image'])\n",
    "        mask_path = os.path.join(root_dir, ann['mask'])\n",
    "        \n",
    "        img_path = img_path.replace('\\\\', '/')\n",
    "        mask_path = mask_path.replace('\\\\', '/')\n",
    "\n",
    "        image = np.array(Image.open(img_path).convert(\"RGB\"))\n",
    "        mask = np.array(Image.open(mask_path).convert(\"L\"))\n",
    "\n",
    "        if self.transform:\n",
    "            augmented = self.transform(image=image, mask=mask)\n",
    "            image = augmented[\"image\"]\n",
    "            mask = augmented[\"mask\"]\n",
    "\n",
    "        mask = (mask > 0).float().unsqueeze(0) # binary mask\n",
    "        return image, mask\n"
   ]
  },
  {
   "cell_type": "code",
   "execution_count": 27,
   "metadata": {
    "execution": {
     "iopub.execute_input": "2025-09-15T11:09:42.773068Z",
     "iopub.status.busy": "2025-09-15T11:09:42.772795Z",
     "iopub.status.idle": "2025-09-15T11:09:42.781711Z",
     "shell.execute_reply": "2025-09-15T11:09:42.780941Z",
     "shell.execute_reply.started": "2025-09-15T11:09:42.773047Z"
    },
    "trusted": true
   },
   "outputs": [],
   "source": [
    "# ===================== U-Net Model =====================\n",
    "class UNet(nn.Module):\n",
    "    def __init__(self, in_channels=3, out_channels=1, features=[64, 128, 256, 512]):\n",
    "        super(UNet, self).__init__()\n",
    "        self.downs = nn.ModuleList()\n",
    "        self.ups = nn.ModuleList()\n",
    "        self.pool = nn.MaxPool2d(2, 2)\n",
    "\n",
    "        # Downsampling\n",
    "        for feature in features:\n",
    "            self.downs.append(self.double_conv(in_channels, feature))\n",
    "            in_channels = feature\n",
    "\n",
    "        # Bottleneck\n",
    "        self.bottleneck = self.double_conv(features[-1], features[-1] * 2)\n",
    "\n",
    "        # Upsampling\n",
    "        for feature in reversed(features):\n",
    "            self.ups.append(nn.ConvTranspose2d(feature * 2, feature, kernel_size=2, stride=2))\n",
    "            self.ups.append(self.double_conv(feature * 2, feature))\n",
    "\n",
    "        self.final_conv = nn.Conv2d(features[0], out_channels, kernel_size=1)\n",
    "\n",
    "    def forward(self, x):\n",
    "        skip_connections = []\n",
    "\n",
    "        for down in self.downs:\n",
    "            x = down(x)\n",
    "            skip_connections.append(x)\n",
    "            x = self.pool(x)\n",
    "\n",
    "        x = self.bottleneck(x)\n",
    "        skip_connections = skip_connections[::-1]\n",
    "\n",
    "        for idx in range(0, len(self.ups), 2):\n",
    "            x = self.ups[idx](x)\n",
    "            skip_connection = skip_connections[idx // 2]\n",
    "            if x.shape != skip_connection.shape:\n",
    "                x = F.interpolate(x, size=skip_connection.shape[2:])\n",
    "            x = torch.cat((skip_connection, x), dim=1)\n",
    "            x = self.ups[idx + 1](x)\n",
    "\n",
    "        return self.final_conv(x)\n",
    "\n",
    "    @staticmethod\n",
    "    def double_conv(in_channels, out_channels):\n",
    "        return nn.Sequential(\n",
    "            nn.Conv2d(in_channels, out_channels, 3, padding=1, bias=False),\n",
    "            nn.BatchNorm2d(out_channels),\n",
    "            nn.ReLU(inplace=True),\n",
    "            nn.Conv2d(out_channels, out_channels, 3, padding=1, bias=False),\n",
    "            nn.BatchNorm2d(out_channels),\n",
    "            nn.ReLU(inplace=True),\n",
    "        )\n"
   ]
  },
  {
   "cell_type": "code",
   "execution_count": 28,
   "metadata": {
    "execution": {
     "iopub.execute_input": "2025-09-15T11:09:44.236456Z",
     "iopub.status.busy": "2025-09-15T11:09:44.236166Z",
     "iopub.status.idle": "2025-09-15T11:09:44.241569Z",
     "shell.execute_reply": "2025-09-15T11:09:44.240949Z",
     "shell.execute_reply.started": "2025-09-15T11:09:44.236431Z"
    },
    "trusted": true
   },
   "outputs": [],
   "source": [
    "# ===================== Loss Functions =====================\n",
    "class DiceLoss(nn.Module):\n",
    "    def __init__(self, smooth=1e-6):\n",
    "        super(DiceLoss, self).__init__()\n",
    "        self.smooth = smooth\n",
    "\n",
    "    def forward(self, preds, targets):\n",
    "        preds = torch.sigmoid(preds)\n",
    "        intersection = (preds * targets).sum()\n",
    "        dice = (2. * intersection + self.smooth) / (preds.sum() + targets.sum() + self.smooth)\n",
    "        return 1 - dice\n",
    "\n",
    "\n",
    "def loss_fn(preds, targets):\n",
    "    bce = nn.BCEWithLogitsLoss()(preds, targets)\n",
    "    dice = DiceLoss()(preds, targets)\n",
    "    return bce + dice\n",
    "\n"
   ]
  },
  {
   "cell_type": "code",
   "execution_count": 29,
   "metadata": {
    "execution": {
     "iopub.execute_input": "2025-09-15T11:09:45.509899Z",
     "iopub.status.busy": "2025-09-15T11:09:45.509180Z",
     "iopub.status.idle": "2025-09-15T11:09:45.514300Z",
     "shell.execute_reply": "2025-09-15T11:09:45.513596Z",
     "shell.execute_reply.started": "2025-09-15T11:09:45.509872Z"
    },
    "trusted": true
   },
   "outputs": [],
   "source": [
    "# ===================== Metrics =====================\n",
    "def dice_score(preds, targets, threshold=0.5):\n",
    "    preds = (torch.sigmoid(preds) > threshold).float()\n",
    "    intersection = (preds * targets).sum()\n",
    "    return (2. * intersection) / (preds.sum() + targets.sum() + 1e-8)\n",
    "\n",
    "\n",
    "def pixel_accuracy(preds, targets, threshold=0.5):\n",
    "    preds = (torch.sigmoid(preds) > threshold).float()\n",
    "    correct = (preds == targets).float()\n",
    "    return correct.sum() / correct.numel()\n"
   ]
  },
  {
   "cell_type": "code",
   "execution_count": 30,
   "metadata": {
    "execution": {
     "iopub.execute_input": "2025-09-15T11:09:46.732696Z",
     "iopub.status.busy": "2025-09-15T11:09:46.732371Z",
     "iopub.status.idle": "2025-09-15T11:09:46.739715Z",
     "shell.execute_reply": "2025-09-15T11:09:46.738866Z",
     "shell.execute_reply.started": "2025-09-15T11:09:46.732674Z"
    },
    "trusted": true
   },
   "outputs": [],
   "source": [
    "# ===================== Training =====================\n",
    "def train_one_epoch(loader, model, optimizer, scaler, device):\n",
    "    loop = tqdm(loader, leave=True)\n",
    "    total_loss, total_dice, total_acc = 0, 0, 0\n",
    "\n",
    "    for data, targets in loop:\n",
    "        data, targets = data.to(device), targets.to(device)\n",
    "\n",
    "        with autocast():\n",
    "            preds = model(data)\n",
    "            loss = loss_fn(preds, targets)\n",
    "\n",
    "        optimizer.zero_grad()\n",
    "        scaler.scale(loss).backward()\n",
    "        scaler.step(optimizer)\n",
    "        scaler.update()\n",
    "\n",
    "        total_loss += loss.item()\n",
    "        total_dice += dice_score(preds, targets).item()\n",
    "        total_acc += pixel_accuracy(preds, targets).item()\n",
    "\n",
    "        loop.set_postfix(loss=loss.item())\n",
    "\n",
    "    return total_loss / len(loader), total_dice / len(loader), total_acc / len(loader)\n",
    "\n",
    "\n",
    "def validate(loader, model, device):\n",
    "    model.eval()\n",
    "    total_loss, total_dice, total_acc = 0, 0, 0\n",
    "\n",
    "    with torch.no_grad():\n",
    "        for data, targets in loader:\n",
    "            data, targets = data.to(device), targets.to(device)\n",
    "            preds = model(data)\n",
    "            loss = loss_fn(preds, targets)\n",
    "\n",
    "            total_loss += loss.item()\n",
    "            total_dice += dice_score(preds, targets).item()\n",
    "            total_acc += pixel_accuracy(preds, targets).item()\n",
    "\n",
    "    model.train()\n",
    "    return total_loss / len(loader), total_dice / len(loader), total_acc / len(loader)\n"
   ]
  },
  {
   "cell_type": "code",
   "execution_count": 35,
   "metadata": {
    "execution": {
     "iopub.execute_input": "2025-09-15T11:19:02.522886Z",
     "iopub.status.busy": "2025-09-15T11:19:02.522109Z",
     "iopub.status.idle": "2025-09-15T11:19:02.533514Z",
     "shell.execute_reply": "2025-09-15T11:19:02.532746Z",
     "shell.execute_reply.started": "2025-09-15T11:19:02.522859Z"
    },
    "trusted": true
   },
   "outputs": [],
   "source": [
    "def main():\n",
    "    # Config\n",
    "    IMAGE_HEIGHT, IMAGE_WIDTH = 160, 320\n",
    "    LEARNING_RATE = 2e-4\n",
    "    BATCH_SIZE = 24\n",
    "    NUM_EPOCHS = 20\n",
    "    NUM_WORKERS = 4\n",
    "    PIN_MEMORY = True\n",
    "    DEVICE = \"cuda\" if torch.cuda.is_available() else \"cpu\"\n",
    "    CHECKPOINT_PATH = \"best_model.pth.tar\"  # <-- standard extension\n",
    "\n",
    "    # Paths\n",
    "    root_dirs = {\n",
    "        \"culane\": \"/kaggle/input/culane/CULane\",\n",
    "        \"tusimple\": \"/kaggle/input/masked-dataset/processed\",\n",
    "    }\n",
    "    train_annotations = \"/kaggle/input/annotations/annotations/final_train_annotations.jsonl\"\n",
    "    val_annotations = \"/kaggle/input/annotations/annotations/final_val_annotations.jsonl\"\n",
    "\n",
    "    # Transforms\n",
    "    train_transform = A.Compose([\n",
    "        A.Resize(height=IMAGE_HEIGHT, width=IMAGE_WIDTH),\n",
    "        A.HorizontalFlip(p=0.5),\n",
    "        A.ColorJitter(brightness=0.2, contrast=0.2, saturation=0.2, p=0.5),\n",
    "        A.Normalize(mean=(0.485, 0.456, 0.406),\n",
    "                    std=(0.229, 0.224, 0.225)),\n",
    "        ToTensorV2(),\n",
    "    ])\n",
    "\n",
    "    val_transform = A.Compose([\n",
    "        A.Resize(height=IMAGE_HEIGHT, width=IMAGE_WIDTH),\n",
    "        A.Normalize(mean=(0.485, 0.456, 0.406),\n",
    "                    std=(0.229, 0.224, 0.225)),\n",
    "        ToTensorV2(),\n",
    "    ])\n",
    "\n",
    "    # Datasets & Loaders\n",
    "    train_dataset = LaneDataset(train_annotations, root_dirs, transform=train_transform)\n",
    "    val_dataset = LaneDataset(val_annotations, root_dirs, transform=val_transform)\n",
    "\n",
    "    train_loader = DataLoader(train_dataset, batch_size=BATCH_SIZE, shuffle=True,\n",
    "                              num_workers=NUM_WORKERS, pin_memory=PIN_MEMORY)\n",
    "    val_loader = DataLoader(val_dataset, batch_size=BATCH_SIZE, shuffle=False,\n",
    "                            num_workers=NUM_WORKERS, pin_memory=PIN_MEMORY)\n",
    "\n",
    "    # Model, Optimizer, AMP\n",
    "    model = UNet(in_channels=3, out_channels=1).to(DEVICE)\n",
    "    optimizer = optim.Adam(model.parameters(), lr=LEARNING_RATE)\n",
    "    scaler = GradScaler()\n",
    "\n",
    "    # Scheduler (optional, but recommended)\n",
    "    scheduler = ReduceLROnPlateau(optimizer, mode=\"max\", factor=0.5,\n",
    "                                  patience=3, verbose=True)\n",
    "\n",
    "    # Resume training if checkpoint exists\n",
    "    best_dice_score = -1.0\n",
    "    if os.path.exists(CHECKPOINT_PATH):\n",
    "        print(\"🔄 Resuming from checkpoint...\")\n",
    "        checkpoint = torch.load(CHECKPOINT_PATH, map_location=DEVICE)\n",
    "        model.load_state_dict(checkpoint[\"state_dict\"])\n",
    "        optimizer.load_state_dict(checkpoint[\"optimizer\"])\n",
    "        best_dice_score = checkpoint.get(\"best_dice\", -1.0)  # ✅ safer load\n",
    "\n",
    "    # Training loop\n",
    "    for epoch in range(NUM_EPOCHS):\n",
    "        train_loss, train_dice, train_acc = train_one_epoch(\n",
    "            train_loader, model, optimizer, scaler, DEVICE)\n",
    "        val_loss, val_dice, val_acc = validate(val_loader, model, DEVICE)\n",
    "\n",
    "        print(f\"\\nEpoch [{epoch+1}/{NUM_EPOCHS}]\")\n",
    "        print(f\"Train: Loss={train_loss:.4f}, Dice={train_dice:.4f}, Acc={train_acc:.4f}\")\n",
    "        print(f\"Val:   Loss={val_loss:.4f}, Dice={val_dice:.4f}, Acc={val_acc:.4f}\")\n",
    "        print(f\"Current LR: {optimizer.param_groups[0]['lr']:.6f}\")  # ✅ LR logging\n",
    "\n",
    "        # Save only if validation improves\n",
    "        if val_dice > best_dice_score:\n",
    "            best_dice_score = val_dice\n",
    "            print(f\"✅ New best model! Saving to {CHECKPOINT_PATH}\")\n",
    "            torch.save({\n",
    "                \"state_dict\": model.state_dict(),\n",
    "                \"optimizer\": optimizer.state_dict(),\n",
    "                \"best_dice\": best_dice_score,\n",
    "            }, CHECKPOINT_PATH)\n",
    "\n",
    "        # Step scheduler\n",
    "        scheduler.step(val_dice)\n"
   ]
  },
  {
   "cell_type": "code",
   "execution_count": 36,
   "metadata": {
    "execution": {
     "iopub.execute_input": "2025-09-15T11:19:06.883043Z",
     "iopub.status.busy": "2025-09-15T11:19:06.882758Z",
     "iopub.status.idle": "2025-09-15T17:04:52.902643Z",
     "shell.execute_reply": "2025-09-15T17:04:52.899136Z",
     "shell.execute_reply.started": "2025-09-15T11:19:06.883021Z"
    },
    "trusted": true
   },
   "outputs": [
    {
     "name": "stderr",
     "output_type": "stream",
     "text": [
      "/tmp/ipykernel_36/3894524294.py:49: FutureWarning: `torch.cuda.amp.GradScaler(args...)` is deprecated. Please use `torch.amp.GradScaler('cuda', args...)` instead.\n",
      "  scaler = GradScaler()\n",
      "  0%|          | 0/3855 [00:00<?, ?it/s]/tmp/ipykernel_36/394616481.py:9: FutureWarning: `torch.cuda.amp.autocast(args...)` is deprecated. Please use `torch.amp.autocast('cuda', args...)` instead.\n",
      "  with autocast():\n",
      "100%|██████████| 3855/3855 [31:17<00:00,  2.05it/s, loss=0.482]\n"
     ]
    },
    {
     "name": "stdout",
     "output_type": "stream",
     "text": [
      "\n",
      "Epoch [1/20]\n",
      "Train: Loss=0.5909, Dice=0.5649, Acc=0.9736\n",
      "Val:   Loss=0.5383, Dice=0.5789, Acc=0.9733\n",
      "Current LR: 0.000200\n",
      "✅ New best model! Saving to best_model.pth.tar\n"
     ]
    },
    {
     "name": "stderr",
     "output_type": "stream",
     "text": [
      "100%|██████████| 3855/3855 [31:17<00:00,  2.05it/s, loss=0.467]\n"
     ]
    },
    {
     "name": "stdout",
     "output_type": "stream",
     "text": [
      "\n",
      "Epoch [2/20]\n",
      "Train: Loss=0.3999, Dice=0.6887, Acc=0.9813\n",
      "Val:   Loss=0.5142, Dice=0.5978, Acc=0.9753\n",
      "Current LR: 0.000200\n",
      "✅ New best model! Saving to best_model.pth.tar\n"
     ]
    },
    {
     "name": "stderr",
     "output_type": "stream",
     "text": [
      "100%|██████████| 3855/3855 [31:18<00:00,  2.05it/s, loss=0.336]\n"
     ]
    },
    {
     "name": "stdout",
     "output_type": "stream",
     "text": [
      "\n",
      "Epoch [3/20]\n",
      "Train: Loss=0.3596, Dice=0.7203, Acc=0.9832\n",
      "Val:   Loss=0.5052, Dice=0.6046, Acc=0.9761\n",
      "Current LR: 0.000200\n",
      "✅ New best model! Saving to best_model.pth.tar\n"
     ]
    },
    {
     "name": "stderr",
     "output_type": "stream",
     "text": [
      "100%|██████████| 3855/3855 [31:18<00:00,  2.05it/s, loss=0.391]\n"
     ]
    },
    {
     "name": "stdout",
     "output_type": "stream",
     "text": [
      "\n",
      "Epoch [4/20]\n",
      "Train: Loss=0.3349, Dice=0.7396, Acc=0.9843\n",
      "Val:   Loss=0.5062, Dice=0.6049, Acc=0.9758\n",
      "Current LR: 0.000200\n",
      "✅ New best model! Saving to best_model.pth.tar\n"
     ]
    },
    {
     "name": "stderr",
     "output_type": "stream",
     "text": [
      "100%|██████████| 3855/3855 [31:18<00:00,  2.05it/s, loss=0.483]\n"
     ]
    },
    {
     "name": "stdout",
     "output_type": "stream",
     "text": [
      "\n",
      "Epoch [5/20]\n",
      "Train: Loss=0.3172, Dice=0.7536, Acc=0.9851\n",
      "Val:   Loss=0.5110, Dice=0.6021, Acc=0.9764\n",
      "Current LR: 0.000200\n"
     ]
    },
    {
     "name": "stderr",
     "output_type": "stream",
     "text": [
      "100%|██████████| 3855/3855 [31:18<00:00,  2.05it/s, loss=0.252]\n"
     ]
    },
    {
     "name": "stdout",
     "output_type": "stream",
     "text": [
      "\n",
      "Epoch [6/20]\n",
      "Train: Loss=0.3030, Dice=0.7648, Acc=0.9858\n",
      "Val:   Loss=0.4942, Dice=0.6149, Acc=0.9761\n",
      "Current LR: 0.000200\n",
      "✅ New best model! Saving to best_model.pth.tar\n"
     ]
    },
    {
     "name": "stderr",
     "output_type": "stream",
     "text": [
      "100%|██████████| 3855/3855 [31:20<00:00,  2.05it/s, loss=0.391]\n"
     ]
    },
    {
     "name": "stdout",
     "output_type": "stream",
     "text": [
      "\n",
      "Epoch [7/20]\n",
      "Train: Loss=0.2911, Dice=0.7742, Acc=0.9863\n",
      "Val:   Loss=0.4972, Dice=0.6114, Acc=0.9767\n",
      "Current LR: 0.000200\n"
     ]
    },
    {
     "name": "stderr",
     "output_type": "stream",
     "text": [
      "100%|██████████| 3855/3855 [31:19<00:00,  2.05it/s, loss=0.229]\n"
     ]
    },
    {
     "name": "stdout",
     "output_type": "stream",
     "text": [
      "\n",
      "Epoch [8/20]\n",
      "Train: Loss=0.2805, Dice=0.7826, Acc=0.9868\n",
      "Val:   Loss=0.4975, Dice=0.6126, Acc=0.9762\n",
      "Current LR: 0.000200\n"
     ]
    },
    {
     "name": "stderr",
     "output_type": "stream",
     "text": [
      "100%|██████████| 3855/3855 [31:19<00:00,  2.05it/s, loss=0.241]\n"
     ]
    },
    {
     "name": "stdout",
     "output_type": "stream",
     "text": [
      "\n",
      "Epoch [9/20]\n",
      "Train: Loss=0.2711, Dice=0.7900, Acc=0.9873\n",
      "Val:   Loss=0.5009, Dice=0.6113, Acc=0.9765\n",
      "Current LR: 0.000200\n"
     ]
    },
    {
     "name": "stderr",
     "output_type": "stream",
     "text": [
      "100%|██████████| 3855/3855 [31:19<00:00,  2.05it/s, loss=0.255]\n"
     ]
    },
    {
     "name": "stdout",
     "output_type": "stream",
     "text": [
      "\n",
      "Epoch [10/20]\n",
      "Train: Loss=0.2622, Dice=0.7970, Acc=0.9877\n",
      "Val:   Loss=0.5030, Dice=0.6110, Acc=0.9762\n",
      "Current LR: 0.000200\n"
     ]
    },
    {
     "name": "stderr",
     "output_type": "stream",
     "text": [
      " 56%|█████▌    | 2142/3855 [17:25<13:55,  2.05it/s, loss=0.299]\n"
     ]
    },
    {
     "ename": "KeyboardInterrupt",
     "evalue": "",
     "output_type": "error",
     "traceback": [
      "\u001b[0;31m---------------------------------------------------------------------------\u001b[0m",
      "\u001b[0;31mKeyboardInterrupt\u001b[0m                         Traceback (most recent call last)",
      "\u001b[0;32m/tmp/ipykernel_36/3832242952.py\u001b[0m in \u001b[0;36m<cell line: 0>\u001b[0;34m()\u001b[0m\n\u001b[1;32m      1\u001b[0m \u001b[0;32mif\u001b[0m \u001b[0m__name__\u001b[0m \u001b[0;34m==\u001b[0m \u001b[0;34m\"__main__\"\u001b[0m\u001b[0;34m:\u001b[0m\u001b[0;34m\u001b[0m\u001b[0;34m\u001b[0m\u001b[0m\n\u001b[0;32m----> 2\u001b[0;31m     \u001b[0mmain\u001b[0m\u001b[0;34m(\u001b[0m\u001b[0;34m)\u001b[0m\u001b[0;34m\u001b[0m\u001b[0;34m\u001b[0m\u001b[0m\n\u001b[0m",
      "\u001b[0;32m/tmp/ipykernel_36/3894524294.py\u001b[0m in \u001b[0;36mmain\u001b[0;34m()\u001b[0m\n\u001b[1;32m     64\u001b[0m     \u001b[0;31m# Training loop\u001b[0m\u001b[0;34m\u001b[0m\u001b[0;34m\u001b[0m\u001b[0m\n\u001b[1;32m     65\u001b[0m     \u001b[0;32mfor\u001b[0m \u001b[0mepoch\u001b[0m \u001b[0;32min\u001b[0m \u001b[0mrange\u001b[0m\u001b[0;34m(\u001b[0m\u001b[0mNUM_EPOCHS\u001b[0m\u001b[0;34m)\u001b[0m\u001b[0;34m:\u001b[0m\u001b[0;34m\u001b[0m\u001b[0;34m\u001b[0m\u001b[0m\n\u001b[0;32m---> 66\u001b[0;31m         train_loss, train_dice, train_acc = train_one_epoch(\n\u001b[0m\u001b[1;32m     67\u001b[0m             train_loader, model, optimizer, scaler, DEVICE)\n\u001b[1;32m     68\u001b[0m         \u001b[0mval_loss\u001b[0m\u001b[0;34m,\u001b[0m \u001b[0mval_dice\u001b[0m\u001b[0;34m,\u001b[0m \u001b[0mval_acc\u001b[0m \u001b[0;34m=\u001b[0m \u001b[0mvalidate\u001b[0m\u001b[0;34m(\u001b[0m\u001b[0mval_loader\u001b[0m\u001b[0;34m,\u001b[0m \u001b[0mmodel\u001b[0m\u001b[0;34m,\u001b[0m \u001b[0mDEVICE\u001b[0m\u001b[0;34m)\u001b[0m\u001b[0;34m\u001b[0m\u001b[0;34m\u001b[0m\u001b[0m\n",
      "\u001b[0;32m/tmp/ipykernel_36/394616481.py\u001b[0m in \u001b[0;36mtrain_one_epoch\u001b[0;34m(loader, model, optimizer, scaler, device)\u001b[0m\n\u001b[1;32m     13\u001b[0m         \u001b[0moptimizer\u001b[0m\u001b[0;34m.\u001b[0m\u001b[0mzero_grad\u001b[0m\u001b[0;34m(\u001b[0m\u001b[0;34m)\u001b[0m\u001b[0;34m\u001b[0m\u001b[0;34m\u001b[0m\u001b[0m\n\u001b[1;32m     14\u001b[0m         \u001b[0mscaler\u001b[0m\u001b[0;34m.\u001b[0m\u001b[0mscale\u001b[0m\u001b[0;34m(\u001b[0m\u001b[0mloss\u001b[0m\u001b[0;34m)\u001b[0m\u001b[0;34m.\u001b[0m\u001b[0mbackward\u001b[0m\u001b[0;34m(\u001b[0m\u001b[0;34m)\u001b[0m\u001b[0;34m\u001b[0m\u001b[0;34m\u001b[0m\u001b[0m\n\u001b[0;32m---> 15\u001b[0;31m         \u001b[0mscaler\u001b[0m\u001b[0;34m.\u001b[0m\u001b[0mstep\u001b[0m\u001b[0;34m(\u001b[0m\u001b[0moptimizer\u001b[0m\u001b[0;34m)\u001b[0m\u001b[0;34m\u001b[0m\u001b[0;34m\u001b[0m\u001b[0m\n\u001b[0m\u001b[1;32m     16\u001b[0m         \u001b[0mscaler\u001b[0m\u001b[0;34m.\u001b[0m\u001b[0mupdate\u001b[0m\u001b[0;34m(\u001b[0m\u001b[0;34m)\u001b[0m\u001b[0;34m\u001b[0m\u001b[0;34m\u001b[0m\u001b[0m\n\u001b[1;32m     17\u001b[0m \u001b[0;34m\u001b[0m\u001b[0m\n",
      "\u001b[0;32m/usr/local/lib/python3.11/dist-packages/torch/amp/grad_scaler.py\u001b[0m in \u001b[0;36mstep\u001b[0;34m(self, optimizer, *args, **kwargs)\u001b[0m\n\u001b[1;32m    455\u001b[0m         ), \"No inf checks were recorded for this optimizer.\"\n\u001b[1;32m    456\u001b[0m \u001b[0;34m\u001b[0m\u001b[0m\n\u001b[0;32m--> 457\u001b[0;31m         \u001b[0mretval\u001b[0m \u001b[0;34m=\u001b[0m \u001b[0mself\u001b[0m\u001b[0;34m.\u001b[0m\u001b[0m_maybe_opt_step\u001b[0m\u001b[0;34m(\u001b[0m\u001b[0moptimizer\u001b[0m\u001b[0;34m,\u001b[0m \u001b[0moptimizer_state\u001b[0m\u001b[0;34m,\u001b[0m \u001b[0;34m*\u001b[0m\u001b[0margs\u001b[0m\u001b[0;34m,\u001b[0m \u001b[0;34m**\u001b[0m\u001b[0mkwargs\u001b[0m\u001b[0;34m)\u001b[0m\u001b[0;34m\u001b[0m\u001b[0;34m\u001b[0m\u001b[0m\n\u001b[0m\u001b[1;32m    458\u001b[0m \u001b[0;34m\u001b[0m\u001b[0m\n\u001b[1;32m    459\u001b[0m         \u001b[0moptimizer_state\u001b[0m\u001b[0;34m[\u001b[0m\u001b[0;34m\"stage\"\u001b[0m\u001b[0;34m]\u001b[0m \u001b[0;34m=\u001b[0m \u001b[0mOptState\u001b[0m\u001b[0;34m.\u001b[0m\u001b[0mSTEPPED\u001b[0m\u001b[0;34m\u001b[0m\u001b[0;34m\u001b[0m\u001b[0m\n",
      "\u001b[0;32m/usr/local/lib/python3.11/dist-packages/torch/amp/grad_scaler.py\u001b[0m in \u001b[0;36m_maybe_opt_step\u001b[0;34m(self, optimizer, optimizer_state, *args, **kwargs)\u001b[0m\n\u001b[1;32m    349\u001b[0m     ) -> Optional[float]:\n\u001b[1;32m    350\u001b[0m         \u001b[0mretval\u001b[0m\u001b[0;34m:\u001b[0m \u001b[0mOptional\u001b[0m\u001b[0;34m[\u001b[0m\u001b[0mfloat\u001b[0m\u001b[0;34m]\u001b[0m \u001b[0;34m=\u001b[0m \u001b[0;32mNone\u001b[0m\u001b[0;34m\u001b[0m\u001b[0;34m\u001b[0m\u001b[0m\n\u001b[0;32m--> 351\u001b[0;31m         \u001b[0;32mif\u001b[0m \u001b[0;32mnot\u001b[0m \u001b[0msum\u001b[0m\u001b[0;34m(\u001b[0m\u001b[0mv\u001b[0m\u001b[0;34m.\u001b[0m\u001b[0mitem\u001b[0m\u001b[0;34m(\u001b[0m\u001b[0;34m)\u001b[0m \u001b[0;32mfor\u001b[0m \u001b[0mv\u001b[0m \u001b[0;32min\u001b[0m \u001b[0moptimizer_state\u001b[0m\u001b[0;34m[\u001b[0m\u001b[0;34m\"found_inf_per_device\"\u001b[0m\u001b[0;34m]\u001b[0m\u001b[0;34m.\u001b[0m\u001b[0mvalues\u001b[0m\u001b[0;34m(\u001b[0m\u001b[0;34m)\u001b[0m\u001b[0;34m)\u001b[0m\u001b[0;34m:\u001b[0m\u001b[0;34m\u001b[0m\u001b[0;34m\u001b[0m\u001b[0m\n\u001b[0m\u001b[1;32m    352\u001b[0m             \u001b[0mretval\u001b[0m \u001b[0;34m=\u001b[0m \u001b[0moptimizer\u001b[0m\u001b[0;34m.\u001b[0m\u001b[0mstep\u001b[0m\u001b[0;34m(\u001b[0m\u001b[0;34m*\u001b[0m\u001b[0margs\u001b[0m\u001b[0;34m,\u001b[0m \u001b[0;34m**\u001b[0m\u001b[0mkwargs\u001b[0m\u001b[0;34m)\u001b[0m\u001b[0;34m\u001b[0m\u001b[0;34m\u001b[0m\u001b[0m\n\u001b[1;32m    353\u001b[0m         \u001b[0;32mreturn\u001b[0m \u001b[0mretval\u001b[0m\u001b[0;34m\u001b[0m\u001b[0;34m\u001b[0m\u001b[0m\n",
      "\u001b[0;32m/usr/local/lib/python3.11/dist-packages/torch/amp/grad_scaler.py\u001b[0m in \u001b[0;36m<genexpr>\u001b[0;34m(.0)\u001b[0m\n\u001b[1;32m    349\u001b[0m     ) -> Optional[float]:\n\u001b[1;32m    350\u001b[0m         \u001b[0mretval\u001b[0m\u001b[0;34m:\u001b[0m \u001b[0mOptional\u001b[0m\u001b[0;34m[\u001b[0m\u001b[0mfloat\u001b[0m\u001b[0;34m]\u001b[0m \u001b[0;34m=\u001b[0m \u001b[0;32mNone\u001b[0m\u001b[0;34m\u001b[0m\u001b[0;34m\u001b[0m\u001b[0m\n\u001b[0;32m--> 351\u001b[0;31m         \u001b[0;32mif\u001b[0m \u001b[0;32mnot\u001b[0m \u001b[0msum\u001b[0m\u001b[0;34m(\u001b[0m\u001b[0mv\u001b[0m\u001b[0;34m.\u001b[0m\u001b[0mitem\u001b[0m\u001b[0;34m(\u001b[0m\u001b[0;34m)\u001b[0m \u001b[0;32mfor\u001b[0m \u001b[0mv\u001b[0m \u001b[0;32min\u001b[0m \u001b[0moptimizer_state\u001b[0m\u001b[0;34m[\u001b[0m\u001b[0;34m\"found_inf_per_device\"\u001b[0m\u001b[0;34m]\u001b[0m\u001b[0;34m.\u001b[0m\u001b[0mvalues\u001b[0m\u001b[0;34m(\u001b[0m\u001b[0;34m)\u001b[0m\u001b[0;34m)\u001b[0m\u001b[0;34m:\u001b[0m\u001b[0;34m\u001b[0m\u001b[0;34m\u001b[0m\u001b[0m\n\u001b[0m\u001b[1;32m    352\u001b[0m             \u001b[0mretval\u001b[0m \u001b[0;34m=\u001b[0m \u001b[0moptimizer\u001b[0m\u001b[0;34m.\u001b[0m\u001b[0mstep\u001b[0m\u001b[0;34m(\u001b[0m\u001b[0;34m*\u001b[0m\u001b[0margs\u001b[0m\u001b[0;34m,\u001b[0m \u001b[0;34m**\u001b[0m\u001b[0mkwargs\u001b[0m\u001b[0;34m)\u001b[0m\u001b[0;34m\u001b[0m\u001b[0;34m\u001b[0m\u001b[0m\n\u001b[1;32m    353\u001b[0m         \u001b[0;32mreturn\u001b[0m \u001b[0mretval\u001b[0m\u001b[0;34m\u001b[0m\u001b[0;34m\u001b[0m\u001b[0m\n",
      "\u001b[0;31mKeyboardInterrupt\u001b[0m: "
     ]
    }
   ],
   "source": [
    "if __name__ == \"__main__\":\n",
    "    main()"
   ]
  },
  {
   "cell_type": "code",
   "execution_count": null,
   "metadata": {
    "trusted": true
   },
   "outputs": [],
   "source": []
  }
 ],
 "metadata": {
  "kernelspec": {
   "display_name": "Python 3",
   "language": "python",
   "name": "python3"
  },
  "language_info": {
   "codemirror_mode": {
    "name": "ipython",
    "version": 3
   },
   "file_extension": ".py",
   "mimetype": "text/x-python",
   "name": "python",
   "nbconvert_exporter": "python",
   "pygments_lexer": "ipython3",
   "version": "3.11.13"
  }
 },
 "nbformat": 4,
 "nbformat_minor": 4
}
