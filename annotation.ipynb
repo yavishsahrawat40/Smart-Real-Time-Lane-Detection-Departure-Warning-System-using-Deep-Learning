{
 "cells": [
  {
   "cell_type": "code",
   "execution_count": 1,
   "id": "3a5052de",
   "metadata": {},
   "outputs": [],
   "source": [
    "import json\n",
    "import os"
   ]
  },
  {
   "cell_type": "code",
   "execution_count": 2,
   "id": "793846d1",
   "metadata": {},
   "outputs": [],
   "source": [
    "# --- DEFINE YOUR ABSOLUTE PATHS ---\n",
    "TUSIMPLE_ROOT = \"processed/\"\n",
    "CULANE_ROOT = \"CULane/\"\n",
    "CULANE_JSON_ROOT = \"CULane/\" \n"
   ]
  },
  {
   "cell_type": "code",
   "execution_count": 3,
   "id": "fe40fb17",
   "metadata": {},
   "outputs": [],
   "source": [
    "# --- Input Annotation Files ---\n",
    "TUSIMPLE_JSON_PATH = os.path.join(TUSIMPLE_ROOT, \"annotations.json\")\n",
    "CULANE_TRAIN_JSON_PATH = os.path.join(CULANE_JSON_ROOT, \"culane_train_annotations.json\")\n",
    "CULANE_VAL_JSON_PATH = os.path.join(CULANE_JSON_ROOT, \"culane_val_annotations.json\")\n"
   ]
  },
  {
   "cell_type": "code",
   "execution_count": 4,
   "id": "7afbc960",
   "metadata": {},
   "outputs": [],
   "source": [
    "# --- Output .jsonl Files ---\n",
    "FINAL_TRAIN_JSONL_PATH = \"annotations/final_train_annotations.jsonl\"\n",
    "FINAL_VAL_JSONL_PATH = \"annotations/final_val_annotations.jsonl\"\n"
   ]
  },
  {
   "cell_type": "code",
   "execution_count": 6,
   "id": "46ffe500",
   "metadata": {},
   "outputs": [
    {
     "name": "stdout",
     "output_type": "stream",
     "text": [
      "Creating final training annotation file...\n"
     ]
    }
   ],
   "source": [
    "# --- Create Final Training .jsonl File ---\n",
    "print(\"Creating final training annotation file...\")\n",
    "with open(FINAL_TRAIN_JSONL_PATH, 'w') as final_file:\n",
    "    # Process TuSimple\n",
    "    with open(TUSIMPLE_JSON_PATH, 'r') as f:\n",
    "        tusimple_data = json.load(f)\n",
    "        for item in tusimple_data:\n",
    "            item['source'] = 'tusimple'\n",
    "            item['image'] = os.path.relpath(item['image'], TUSIMPLE_ROOT)\n",
    "            item['mask'] = os.path.relpath(item['mask'], TUSIMPLE_ROOT)\n",
    "            final_file.write(json.dumps(item) + '\\n')\n",
    "            \n",
    "    # Process CULane Train\n",
    "    with open(CULANE_TRAIN_JSON_PATH, 'r') as f:\n",
    "        culane_data = json.load(f)\n",
    "        for item in culane_data:\n",
    "            item['source'] = 'culane'\n",
    "            item['image'] = os.path.relpath(item['image'], CULANE_ROOT)\n",
    "            item['mask'] = os.path.relpath(item['mask'], CULANE_ROOT)\n",
    "            final_file.write(json.dumps(item) + '\\n')\n"
   ]
  },
  {
   "cell_type": "code",
   "execution_count": 7,
   "id": "1da19230",
   "metadata": {},
   "outputs": [
    {
     "name": "stdout",
     "output_type": "stream",
     "text": [
      "Creating final validation annotation file...\n",
      "✅ .jsonl annotation files created successfully.\n"
     ]
    }
   ],
   "source": [
    "# --- Create Final Validation .jsonl File ---\n",
    "print(\"Creating final validation annotation file...\")\n",
    "with open(FINAL_VAL_JSONL_PATH, 'w') as final_file:\n",
    "    with open(CULANE_VAL_JSON_PATH, 'r') as f:\n",
    "        culane_data = json.load(f)\n",
    "        for item in culane_data:\n",
    "            item['source'] = 'culane'\n",
    "            item['image'] = os.path.relpath(item['image'], CULANE_ROOT)\n",
    "            item['mask'] = os.path.relpath(item['mask'], CULANE_ROOT)\n",
    "            final_file.write(json.dumps(item) + '\\n')\n",
    "\n",
    "print(\"✅ .jsonl annotation files created successfully.\")"
   ]
  },
  {
   "cell_type": "code",
   "execution_count": null,
   "id": "e7263061",
   "metadata": {},
   "outputs": [],
   "source": []
  }
 ],
 "metadata": {
  "kernelspec": {
   "display_name": "lane_detect",
   "language": "python",
   "name": "python3"
  },
  "language_info": {
   "codemirror_mode": {
    "name": "ipython",
    "version": 3
   },
   "file_extension": ".py",
   "mimetype": "text/x-python",
   "name": "python",
   "nbconvert_exporter": "python",
   "pygments_lexer": "ipython3",
   "version": "3.10.18"
  }
 },
 "nbformat": 4,
 "nbformat_minor": 5
}
