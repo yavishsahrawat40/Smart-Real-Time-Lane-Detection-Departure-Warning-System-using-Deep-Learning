{
 "cells": [
  {
   "cell_type": "code",
   "execution_count": 8,
   "metadata": {
    "_cell_guid": "b1076dfc-b9ad-4769-8c92-a6c4dae69d19",
    "_uuid": "8f2839f25d086af736a60e9eeb907d3b93b6e0e5",
    "execution": {
     "iopub.execute_input": "2025-08-31T14:46:59.784804Z",
     "iopub.status.busy": "2025-08-31T14:46:59.784144Z",
     "iopub.status.idle": "2025-08-31T14:46:59.789060Z",
     "shell.execute_reply": "2025-08-31T14:46:59.788318Z",
     "shell.execute_reply.started": "2025-08-31T14:46:59.784780Z"
    },
    "trusted": true
   },
   "outputs": [],
   "source": [
    "import torch\n",
    "import torch.nn as nn\n",
    "import torch.optim as optim\n",
    "from torch.utils.data import Dataset, DataLoader\n",
    "from torchvision import transforms\n",
    "from sklearn.model_selection import train_test_split\n",
    "from tqdm import tqdm\n",
    "import json\n",
    "import os\n",
    "from PIL import Image\n",
    "import numpy as np\n",
    "import matplotlib.pyplot as plt"
   ]
  },
  {
   "cell_type": "code",
   "execution_count": 9,
   "metadata": {
    "execution": {
     "iopub.execute_input": "2025-08-31T14:46:59.790509Z",
     "iopub.status.busy": "2025-08-31T14:46:59.790178Z",
     "iopub.status.idle": "2025-08-31T14:46:59.806467Z",
     "shell.execute_reply": "2025-08-31T14:46:59.805902Z",
     "shell.execute_reply.started": "2025-08-31T14:46:59.790483Z"
    },
    "trusted": true
   },
   "outputs": [
    {
     "name": "stdout",
     "output_type": "stream",
     "text": [
      "Using device: cuda\n"
     ]
    }
   ],
   "source": [
    "# --- Hyperparameters & Configuration ---\n",
    "LEARNING_RATE = 1e-4\n",
    "DEVICE = \"cuda\" if torch.cuda.is_available() else \"cpu\"\n",
    "BATCH_SIZE = 8\n",
    "NUM_EPOCHS = 25\n",
    "NUM_WORKERS = 2\n",
    "IMAGE_HEIGHT = 288\n",
    "IMAGE_WIDTH = 512\n",
    "PIN_MEMORY = True\n",
    "ANNOTATION_FILE = \"/kaggle/input/masked-dataset/processed/annotations.json\"\n",
    "CHECKPOINT_PATH = \"my_checkpoint.pth.tar\"\n",
    "\n",
    "print(f\"Using device: {DEVICE}\")"
   ]
  },
  {
   "cell_type": "code",
   "execution_count": null,
   "metadata": {
    "execution": {
     "iopub.execute_input": "2025-08-31T14:46:59.807740Z",
     "iopub.status.busy": "2025-08-31T14:46:59.807501Z",
     "iopub.status.idle": "2025-08-31T14:46:59.824108Z",
     "shell.execute_reply": "2025-08-31T14:46:59.823396Z",
     "shell.execute_reply.started": "2025-08-31T14:46:59.807714Z"
    },
    "trusted": true
   },
   "outputs": [],
   "source": [
    "# Note: Augmentations are ONLY for the training set\n",
    "train_transform = transforms.Compose([\n",
    "    transforms.ToTensor(),\n",
    "    transforms.RandomHorizontalFlip(p=0.5), # Randomly flips the image horizontally\n",
    "    transforms.ColorJitter(brightness=0.2, contrast=0.2, saturation=0.2), # Randomly changes brightness, etc.\n",
    "])\n",
    "\n",
    "# Validation set should NOT have augmentations\n",
    "val_transform = transforms.Compose([\n",
    "    transforms.ToTensor(),\n",
    "])\n"
   ]
  },
  {
   "cell_type": "code",
   "execution_count": null,
   "metadata": {
    "execution": {
     "iopub.execute_input": "2025-08-31T14:46:59.825040Z",
     "iopub.status.busy": "2025-08-31T14:46:59.824817Z",
     "iopub.status.idle": "2025-08-31T14:46:59.843318Z",
     "shell.execute_reply": "2025-08-31T14:46:59.842730Z",
     "shell.execute_reply.started": "2025-08-31T14:46:59.825016Z"
    },
    "trusted": true
   },
   "outputs": [],
   "source": [
    "class LaneDataset(Dataset):\n",
    "    # Add 'root_dir' to the init method\n",
    "    def __init__(self, annotations, root_dir, transform=None):\n",
    "        self.annotations = annotations\n",
    "        self.root_dir = root_dir # Store the root directory\n",
    "        self.transform = transform if transform is not None else transforms.Compose([\n",
    "            transforms.ToTensor(),\n",
    "        ])\n",
    "\n",
    "    def __len__(self):\n",
    "        return len(self.annotations)\n",
    "\n",
    "    def __getitem__(self, idx):\n",
    "        # Get the RELATIVE paths from the json file\n",
    "        img_relative_path = self.annotations[idx]['image']\n",
    "        mask_relative_path = self.annotations[idx]['mask']\n",
    "        \n",
    "        # Create the FULL, ABSOLUTE path by joining the root_dir\n",
    "        img_path = os.path.join(self.root_dir, img_relative_path)\n",
    "        mask_path = os.path.join(self.root_dir, mask_relative_path)\n",
    "        \n",
    "        # The rest of the function is the same\n",
    "        image = Image.open(img_path).convert(\"RGB\")\n",
    "        mask = Image.open(mask_path).convert(\"L\")\n",
    "\n",
    "        # Apply transforms only to the image if they exist\n",
    "        if self.transform:\n",
    "            image = self.transform(image)\n",
    "        \n",
    "        mask = transforms.ToTensor()(mask)\n",
    "        mask = torch.where(mask > 0, 1.0, 0.0)\n",
    "        \n",
    "        return image, mask"
   ]
  },
  {
   "cell_type": "code",
   "execution_count": 12,
   "metadata": {
    "execution": {
     "iopub.execute_input": "2025-08-31T14:46:59.844796Z",
     "iopub.status.busy": "2025-08-31T14:46:59.844589Z",
     "iopub.status.idle": "2025-08-31T14:46:59.858302Z",
     "shell.execute_reply": "2025-08-31T14:46:59.857574Z",
     "shell.execute_reply.started": "2025-08-31T14:46:59.844780Z"
    },
    "trusted": true
   },
   "outputs": [],
   "source": [
    "# U-Net Model Definition\n",
    "class DoubleConv(nn.Module):\n",
    "    \"\"\"(Convolution => BatchNorm => ReLU) * 2\"\"\"\n",
    "    def __init__(self, in_channels, out_channels):\n",
    "        super().__init__()\n",
    "        self.double_conv = nn.Sequential(\n",
    "            nn.Conv2d(in_channels, out_channels, kernel_size=3, padding=1),\n",
    "            nn.BatchNorm2d(out_channels),\n",
    "            nn.ReLU(inplace=True),\n",
    "            nn.Conv2d(out_channels, out_channels, kernel_size=3, padding=1),\n",
    "            nn.BatchNorm2d(out_channels),\n",
    "            nn.ReLU(inplace=True)\n",
    "        )\n",
    "\n",
    "    def forward(self, x):\n",
    "        return self.double_conv(x)\n",
    "\n",
    "class UNET(nn.Module):\n",
    "    def __init__(self, in_channels=3, out_channels=1):\n",
    "        super(UNET, self).__init__()\n",
    "        self.inc = DoubleConv(in_channels, 64)\n",
    "        self.down1 = nn.MaxPool2d(2)\n",
    "        self.conv1 = DoubleConv(64, 128)\n",
    "        self.down2 = nn.MaxPool2d(2)\n",
    "        self.conv2 = DoubleConv(128, 256)\n",
    "        self.down3 = nn.MaxPool2d(2)\n",
    "        self.conv3 = DoubleConv(256, 512)\n",
    "        self.down4 = nn.MaxPool2d(2)\n",
    "        self.bottleneck = DoubleConv(512, 1024)\n",
    "        self.up1 = nn.ConvTranspose2d(1024, 512, kernel_size=2, stride=2)\n",
    "        self.up_conv1 = DoubleConv(1024, 512)\n",
    "        self.up2 = nn.ConvTranspose2d(512, 256, kernel_size=2, stride=2)\n",
    "        self.up_conv2 = DoubleConv(512, 256)\n",
    "        self.up3 = nn.ConvTranspose2d(256, 128, kernel_size=2, stride=2)\n",
    "        self.up_conv3 = DoubleConv(256, 128)\n",
    "        self.up4 = nn.ConvTranspose2d(128, 64, kernel_size=2, stride=2)\n",
    "        self.up_conv4 = DoubleConv(128, 64)\n",
    "        self.outc = nn.Conv2d(64, out_channels, kernel_size=1)\n",
    "\n",
    "    def forward(self, x):\n",
    "        x1 = self.inc(x)\n",
    "        x2 = self.down1(x1)\n",
    "        x2 = self.conv1(x2)\n",
    "        x3 = self.down2(x2)\n",
    "        x3 = self.conv2(x3)\n",
    "        x4 = self.down3(x3)\n",
    "        x4 = self.conv3(x4)\n",
    "        x5 = self.down4(x4)\n",
    "        x5 = self.bottleneck(x5)\n",
    "        up1 = self.up1(x5)\n",
    "        concat1 = torch.cat([up1, x4], dim=1)\n",
    "        up1_conv = self.up_conv1(concat1)\n",
    "        up2 = self.up2(up1_conv)\n",
    "        concat2 = torch.cat([up2, x3], dim=1)\n",
    "        up2_conv = self.up_conv2(concat2)\n",
    "        up3 = self.up3(up2_conv)\n",
    "        concat3 = torch.cat([up3, x2], dim=1)\n",
    "        up3_conv = self.up_conv3(concat3)\n",
    "        up4 = self.up4(up3_conv)\n",
    "        concat4 = torch.cat([up4, x1], dim=1)\n",
    "        up4_conv = self.up_conv4(concat4)\n",
    "        logits = self.outc(up4_conv)\n",
    "        return logits"
   ]
  },
  {
   "cell_type": "code",
   "execution_count": null,
   "metadata": {
    "execution": {
     "iopub.execute_input": "2025-08-31T14:46:59.859083Z",
     "iopub.status.busy": "2025-08-31T14:46:59.858842Z",
     "iopub.status.idle": "2025-08-31T14:46:59.875021Z",
     "shell.execute_reply": "2025-08-31T14:46:59.874400Z",
     "shell.execute_reply.started": "2025-08-31T14:46:59.859068Z"
    },
    "trusted": true
   },
   "outputs": [],
   "source": [
    "# Training and Evaluation Functions\n",
    "def train_fn(loader, model, optimizer, loss_fn, scaler):\n",
    "    \"\"\"Processes one epoch of training.\"\"\"\n",
    "    loop = tqdm(loader)\n",
    "    for batch_idx, (data, targets) in enumerate(loop):\n",
    "        data = data.to(device=DEVICE)\n",
    "        targets = targets.float().to(device=DEVICE)\n",
    "        \n",
    "        with torch.cuda.amp.autocast():\n",
    "            predictions = model(data)\n",
    "            loss = loss_fn(predictions, targets)\n",
    "            \n",
    "        optimizer.zero_grad()\n",
    "        scaler.scale(loss).backward()\n",
    "        scaler.step(optimizer)\n",
    "        scaler.update()\n",
    "        \n",
    "        loop.set_postfix(loss=loss.item())\n",
    "\n",
    "def check_accuracy(loader, model, device=\"cuda\"):\n",
    "    \"\"\"\n",
    "    Checks accuracy on a validation set and returns the average Dice score.\n",
    "    \"\"\"\n",
    "    num_correct = 0\n",
    "    num_pixels = 0\n",
    "    dice_score = 0\n",
    "    model.eval() # Set model to evaluation mode\n",
    "    \n",
    "    with torch.no_grad():\n",
    "        for x, y in loader:\n",
    "            x = x.to(device)\n",
    "            y = y.to(device)\n",
    "            preds = torch.sigmoid(model(x))\n",
    "            preds = (preds > 0.5).float()\n",
    "            num_correct += (preds == y).sum()\n",
    "            num_pixels += torch.numel(preds)\n",
    "            dice_score += (2 * (preds * y).sum()) / ((preds + y).sum() + 1e-8)\n",
    "            \n",
    "    # Calculate final metrics\n",
    "    avg_dice_score = dice_score / len(loader)\n",
    "    accuracy = num_correct / num_pixels * 100\n",
    "    \n",
    "    model.train() # Set model back to training mode\n",
    "    \n",
    "    # Return the key metric\n",
    "    return avg_dice_score, accuracy"
   ]
  },
  {
   "cell_type": "code",
   "execution_count": 14,
   "metadata": {
    "execution": {
     "iopub.execute_input": "2025-08-31T14:46:59.902749Z",
     "iopub.status.busy": "2025-08-31T14:46:59.902519Z",
     "iopub.status.idle": "2025-08-31T16:21:09.730715Z",
     "shell.execute_reply": "2025-08-31T16:21:09.729903Z",
     "shell.execute_reply.started": "2025-08-31T14:46:59.902731Z"
    },
    "trusted": true
   },
   "outputs": [
    {
     "name": "stderr",
     "output_type": "stream",
     "text": [
      "/tmp/ipykernel_36/3558863744.py:22: FutureWarning: `torch.cuda.amp.GradScaler(args...)` is deprecated. Please use `torch.amp.GradScaler('cuda', args...)` instead.\n",
      "  scaler = torch.cuda.amp.GradScaler()\n"
     ]
    },
    {
     "name": "stdout",
     "output_type": "stream",
     "text": [
      "--- Epoch 1/25 ---\n"
     ]
    },
    {
     "name": "stderr",
     "output_type": "stream",
     "text": [
      "  0%|          | 0/363 [00:00<?, ?it/s]/tmp/ipykernel_36/3873808148.py:9: FutureWarning: `torch.cuda.amp.autocast(args...)` is deprecated. Please use `torch.amp.autocast('cuda', args...)` instead.\n",
      "  with torch.cuda.amp.autocast():\n",
      "100%|██████████| 363/363 [03:59<00:00,  1.51it/s, loss=0.266]\n"
     ]
    },
    {
     "name": "stdout",
     "output_type": "stream",
     "text": [
      "Validation Accuracy: 96.34\n",
      "Validation Dice Score: 0.3867\n",
      "✅ New best score! Saving model to my_checkpoint.pth.tar\n",
      "--- Epoch 2/25 ---\n"
     ]
    },
    {
     "name": "stderr",
     "output_type": "stream",
     "text": [
      "100%|██████████| 363/363 [03:28<00:00,  1.74it/s, loss=0.19] \n"
     ]
    },
    {
     "name": "stdout",
     "output_type": "stream",
     "text": [
      "Validation Accuracy: 96.86\n",
      "Validation Dice Score: 0.4851\n",
      "✅ New best score! Saving model to my_checkpoint.pth.tar\n",
      "--- Epoch 3/25 ---\n"
     ]
    },
    {
     "name": "stderr",
     "output_type": "stream",
     "text": [
      "100%|██████████| 363/363 [03:28<00:00,  1.74it/s, loss=0.168]\n"
     ]
    },
    {
     "name": "stdout",
     "output_type": "stream",
     "text": [
      "Validation Accuracy: 96.78\n",
      "Validation Dice Score: 0.4609\n",
      "--- Epoch 4/25 ---\n"
     ]
    },
    {
     "name": "stderr",
     "output_type": "stream",
     "text": [
      "100%|██████████| 363/363 [03:28<00:00,  1.74it/s, loss=0.143]\n"
     ]
    },
    {
     "name": "stdout",
     "output_type": "stream",
     "text": [
      "Validation Accuracy: 97.02\n",
      "Validation Dice Score: 0.5382\n",
      "✅ New best score! Saving model to my_checkpoint.pth.tar\n",
      "--- Epoch 5/25 ---\n"
     ]
    },
    {
     "name": "stderr",
     "output_type": "stream",
     "text": [
      "100%|██████████| 363/363 [03:28<00:00,  1.74it/s, loss=0.119] \n"
     ]
    },
    {
     "name": "stdout",
     "output_type": "stream",
     "text": [
      "Validation Accuracy: 97.63\n",
      "Validation Dice Score: 0.7066\n",
      "✅ New best score! Saving model to my_checkpoint.pth.tar\n",
      "--- Epoch 6/25 ---\n"
     ]
    },
    {
     "name": "stderr",
     "output_type": "stream",
     "text": [
      "100%|██████████| 363/363 [03:28<00:00,  1.74it/s, loss=0.117] \n"
     ]
    },
    {
     "name": "stdout",
     "output_type": "stream",
     "text": [
      "Validation Accuracy: 97.50\n",
      "Validation Dice Score: 0.6871\n",
      "--- Epoch 7/25 ---\n"
     ]
    },
    {
     "name": "stderr",
     "output_type": "stream",
     "text": [
      "100%|██████████| 363/363 [03:29<00:00,  1.73it/s, loss=0.103] \n"
     ]
    },
    {
     "name": "stdout",
     "output_type": "stream",
     "text": [
      "Validation Accuracy: 97.68\n",
      "Validation Dice Score: 0.6926\n",
      "--- Epoch 8/25 ---\n"
     ]
    },
    {
     "name": "stderr",
     "output_type": "stream",
     "text": [
      "100%|██████████| 363/363 [03:28<00:00,  1.74it/s, loss=0.119] \n"
     ]
    },
    {
     "name": "stdout",
     "output_type": "stream",
     "text": [
      "Validation Accuracy: 97.79\n",
      "Validation Dice Score: 0.7223\n",
      "✅ New best score! Saving model to my_checkpoint.pth.tar\n",
      "--- Epoch 9/25 ---\n"
     ]
    },
    {
     "name": "stderr",
     "output_type": "stream",
     "text": [
      "100%|██████████| 363/363 [03:28<00:00,  1.74it/s, loss=0.0706]\n"
     ]
    },
    {
     "name": "stdout",
     "output_type": "stream",
     "text": [
      "Validation Accuracy: 97.86\n",
      "Validation Dice Score: 0.7380\n",
      "✅ New best score! Saving model to my_checkpoint.pth.tar\n",
      "--- Epoch 10/25 ---\n"
     ]
    },
    {
     "name": "stderr",
     "output_type": "stream",
     "text": [
      "100%|██████████| 363/363 [03:29<00:00,  1.74it/s, loss=0.107] \n"
     ]
    },
    {
     "name": "stdout",
     "output_type": "stream",
     "text": [
      "Validation Accuracy: 97.87\n",
      "Validation Dice Score: 0.7455\n",
      "✅ New best score! Saving model to my_checkpoint.pth.tar\n",
      "--- Epoch 11/25 ---\n"
     ]
    },
    {
     "name": "stderr",
     "output_type": "stream",
     "text": [
      "100%|██████████| 363/363 [03:28<00:00,  1.74it/s, loss=0.111] \n"
     ]
    },
    {
     "name": "stdout",
     "output_type": "stream",
     "text": [
      "Validation Accuracy: 97.87\n",
      "Validation Dice Score: 0.7424\n",
      "--- Epoch 12/25 ---\n"
     ]
    },
    {
     "name": "stderr",
     "output_type": "stream",
     "text": [
      "100%|██████████| 363/363 [03:29<00:00,  1.73it/s, loss=0.0491]\n"
     ]
    },
    {
     "name": "stdout",
     "output_type": "stream",
     "text": [
      "Validation Accuracy: 97.88\n",
      "Validation Dice Score: 0.7390\n",
      "--- Epoch 13/25 ---\n"
     ]
    },
    {
     "name": "stderr",
     "output_type": "stream",
     "text": [
      "100%|██████████| 363/363 [03:28<00:00,  1.74it/s, loss=0.0601]\n"
     ]
    },
    {
     "name": "stdout",
     "output_type": "stream",
     "text": [
      "Validation Accuracy: 97.87\n",
      "Validation Dice Score: 0.7261\n",
      "--- Epoch 14/25 ---\n"
     ]
    },
    {
     "name": "stderr",
     "output_type": "stream",
     "text": [
      "100%|██████████| 363/363 [03:29<00:00,  1.74it/s, loss=0.0883]\n"
     ]
    },
    {
     "name": "stdout",
     "output_type": "stream",
     "text": [
      "Validation Accuracy: 97.92\n",
      "Validation Dice Score: 0.7494\n",
      "✅ New best score! Saving model to my_checkpoint.pth.tar\n",
      "--- Epoch 15/25 ---\n"
     ]
    },
    {
     "name": "stderr",
     "output_type": "stream",
     "text": [
      "100%|██████████| 363/363 [03:29<00:00,  1.73it/s, loss=0.0519]\n"
     ]
    },
    {
     "name": "stdout",
     "output_type": "stream",
     "text": [
      "Validation Accuracy: 97.96\n",
      "Validation Dice Score: 0.7495\n",
      "✅ New best score! Saving model to my_checkpoint.pth.tar\n",
      "--- Epoch 16/25 ---\n"
     ]
    },
    {
     "name": "stderr",
     "output_type": "stream",
     "text": [
      "100%|██████████| 363/363 [03:29<00:00,  1.74it/s, loss=0.0753]\n"
     ]
    },
    {
     "name": "stdout",
     "output_type": "stream",
     "text": [
      "Validation Accuracy: 97.99\n",
      "Validation Dice Score: 0.7571\n",
      "✅ New best score! Saving model to my_checkpoint.pth.tar\n",
      "--- Epoch 17/25 ---\n"
     ]
    },
    {
     "name": "stderr",
     "output_type": "stream",
     "text": [
      "100%|██████████| 363/363 [03:28<00:00,  1.74it/s, loss=0.0631]\n"
     ]
    },
    {
     "name": "stdout",
     "output_type": "stream",
     "text": [
      "Validation Accuracy: 97.99\n",
      "Validation Dice Score: 0.7578\n",
      "✅ New best score! Saving model to my_checkpoint.pth.tar\n",
      "--- Epoch 18/25 ---\n"
     ]
    },
    {
     "name": "stderr",
     "output_type": "stream",
     "text": [
      "100%|██████████| 363/363 [03:28<00:00,  1.74it/s, loss=0.0581]\n"
     ]
    },
    {
     "name": "stdout",
     "output_type": "stream",
     "text": [
      "Validation Accuracy: 97.96\n",
      "Validation Dice Score: 0.7586\n",
      "✅ New best score! Saving model to my_checkpoint.pth.tar\n",
      "--- Epoch 19/25 ---\n"
     ]
    },
    {
     "name": "stderr",
     "output_type": "stream",
     "text": [
      "100%|██████████| 363/363 [03:28<00:00,  1.74it/s, loss=0.0658]\n"
     ]
    },
    {
     "name": "stdout",
     "output_type": "stream",
     "text": [
      "Validation Accuracy: 97.93\n",
      "Validation Dice Score: 0.7480\n",
      "--- Epoch 20/25 ---\n"
     ]
    },
    {
     "name": "stderr",
     "output_type": "stream",
     "text": [
      "100%|██████████| 363/363 [03:28<00:00,  1.74it/s, loss=0.0722]\n"
     ]
    },
    {
     "name": "stdout",
     "output_type": "stream",
     "text": [
      "Validation Accuracy: 98.01\n",
      "Validation Dice Score: 0.7565\n",
      "--- Epoch 21/25 ---\n"
     ]
    },
    {
     "name": "stderr",
     "output_type": "stream",
     "text": [
      "100%|██████████| 363/363 [03:28<00:00,  1.74it/s, loss=0.0375]\n"
     ]
    },
    {
     "name": "stdout",
     "output_type": "stream",
     "text": [
      "Validation Accuracy: 97.99\n",
      "Validation Dice Score: 0.7586\n",
      "✅ New best score! Saving model to my_checkpoint.pth.tar\n",
      "--- Epoch 22/25 ---\n"
     ]
    },
    {
     "name": "stderr",
     "output_type": "stream",
     "text": [
      "100%|██████████| 363/363 [03:28<00:00,  1.74it/s, loss=0.044] \n"
     ]
    },
    {
     "name": "stdout",
     "output_type": "stream",
     "text": [
      "Validation Accuracy: 97.95\n",
      "Validation Dice Score: 0.7510\n",
      "--- Epoch 23/25 ---\n"
     ]
    },
    {
     "name": "stderr",
     "output_type": "stream",
     "text": [
      "100%|██████████| 363/363 [03:28<00:00,  1.74it/s, loss=0.044] \n"
     ]
    },
    {
     "name": "stdout",
     "output_type": "stream",
     "text": [
      "Validation Accuracy: 97.86\n",
      "Validation Dice Score: 0.7429\n",
      "--- Epoch 24/25 ---\n"
     ]
    },
    {
     "name": "stderr",
     "output_type": "stream",
     "text": [
      "100%|██████████| 363/363 [03:27<00:00,  1.75it/s, loss=0.0334]\n"
     ]
    },
    {
     "name": "stdout",
     "output_type": "stream",
     "text": [
      "Validation Accuracy: 97.95\n",
      "Validation Dice Score: 0.7561\n",
      "--- Epoch 25/25 ---\n"
     ]
    },
    {
     "name": "stderr",
     "output_type": "stream",
     "text": [
      "100%|██████████| 363/363 [03:27<00:00,  1.75it/s, loss=0.0394]\n"
     ]
    },
    {
     "name": "stdout",
     "output_type": "stream",
     "text": [
      "Validation Accuracy: 97.95\n",
      "Validation Dice Score: 0.7523\n"
     ]
    }
   ],
   "source": [
    "# --- Data Loading ---\n",
    "KAGGLE_ROOT_DIR = \"/kaggle/input/masked-dataset/\"\n",
    "with open(os.path.join(KAGGLE_ROOT_DIR, \"processed/annotations.json\"), \"r\") as f:\n",
    "    all_annotations = json.load(f)\n",
    "\n",
    "train_ann, val_ann = train_test_split(all_annotations, test_size=0.2, random_state=42)\n",
    "\n",
    "train_dataset = LaneDataset(annotations=train_ann, root_dir=KAGGLE_ROOT_DIR, transform=train_transform)\n",
    "val_dataset = LaneDataset(annotations=val_ann, root_dir=KAGGLE_ROOT_DIR, transform=val_transform)\n",
    "\n",
    "train_loader = DataLoader(\n",
    "    train_dataset, batch_size=BATCH_SIZE, num_workers=0, pin_memory=PIN_MEMORY, shuffle=True\n",
    ")\n",
    "val_loader = DataLoader(\n",
    "    val_dataset, batch_size=BATCH_SIZE, num_workers=0, pin_memory=PIN_MEMORY, shuffle=False\n",
    ")\n",
    "\n",
    "# --- Model, Loss, Optimizer ---\n",
    "model = UNET(in_channels=3, out_channels=1).to(DEVICE)\n",
    "loss_fn = nn.BCEWithLogitsLoss()\n",
    "optimizer = optim.Adam(model.parameters(), lr=LEARNING_RATE)\n",
    "scaler = torch.cuda.amp.GradScaler()\n",
    "\n",
    "# --- NEW: Keep track of the best score ---\n",
    "best_dice_score = -1.0 \n",
    "\n",
    "# --- Training Loop ---\n",
    "for epoch in range(NUM_EPOCHS):\n",
    "    print(f\"--- Epoch {epoch+1}/{NUM_EPOCHS} ---\")\n",
    "    train_fn(train_loader, model, optimizer, loss_fn, scaler)\n",
    "    \n",
    "    # --- MODIFIED: Get scores from the function and print them ---\n",
    "    current_dice, current_acc = check_accuracy(val_loader, model, device=DEVICE)\n",
    "    print(f\"Validation Accuracy: {current_acc:.2f}\")\n",
    "    print(f\"Validation Dice Score: {current_dice:.4f}\")\n",
    "    \n",
    "    # --- NEW: Conditional Saving Logic ---\n",
    "    if current_dice > best_dice_score:\n",
    "        best_dice_score = current_dice\n",
    "        print(f\"✅ New best score! Saving model to {CHECKPOINT_PATH}\")\n",
    "        \n",
    "        # Save the checkpoint only if the score is better\n",
    "        checkpoint = {\n",
    "            \"state_dict\": model.state_dict(),\n",
    "            \"optimizer\": optimizer.state_dict(),\n",
    "        }\n",
    "        torch.save(checkpoint, CHECKPOINT_PATH)"
   ]
  },
  {
   "cell_type": "code",
   "execution_count": null,
   "metadata": {
    "trusted": true
   },
   "outputs": [],
   "source": []
  }
 ],
 "metadata": {
  "kaggle": {
   "accelerator": "gpu",
   "dataSources": [
    {
     "datasetId": 8173338,
     "sourceId": 12917005,
     "sourceType": "datasetVersion"
    }
   ],
   "dockerImageVersionId": 31090,
   "isGpuEnabled": true,
   "isInternetEnabled": true,
   "language": "python",
   "sourceType": "notebook"
  },
  "kernelspec": {
   "display_name": "Python 3",
   "language": "python",
   "name": "python3"
  },
  "language_info": {
   "codemirror_mode": {
    "name": "ipython",
    "version": 3
   },
   "file_extension": ".py",
   "mimetype": "text/x-python",
   "name": "python",
   "nbconvert_exporter": "python",
   "pygments_lexer": "ipython3",
   "version": "3.11.13"
  }
 },
 "nbformat": 4,
 "nbformat_minor": 4
}
