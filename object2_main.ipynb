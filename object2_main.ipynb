{
 "cells": [
  {
   "cell_type": "code",
   "execution_count": null,
   "metadata": {
    "execution": {
     "iopub.execute_input": "2025-09-16T19:19:24.628480Z",
     "iopub.status.busy": "2025-09-16T19:19:24.627988Z",
     "iopub.status.idle": "2025-09-16T19:20:37.405233Z",
     "shell.execute_reply": "2025-09-16T19:20:37.404514Z",
     "shell.execute_reply.started": "2025-09-16T19:19:24.628438Z"
    },
    "trusted": true
   },
   "outputs": [
    {
     "name": "stdout",
     "output_type": "stream",
     "text": [
      "Collecting ultralytics\n",
      "  Downloading ultralytics-8.3.200-py3-none-any.whl.metadata (37 kB)\n",
      "Requirement already satisfied: numpy>=1.23.0 in /usr/local/lib/python3.11/dist-packages (from ultralytics) (1.26.4)\n",
      "Requirement already satisfied: matplotlib>=3.3.0 in /usr/local/lib/python3.11/dist-packages (from ultralytics) (3.7.2)\n",
      "Requirement already satisfied: opencv-python>=4.6.0 in /usr/local/lib/python3.11/dist-packages (from ultralytics) (4.11.0.86)\n",
      "Requirement already satisfied: pillow>=7.1.2 in /usr/local/lib/python3.11/dist-packages (from ultralytics) (11.2.1)\n",
      "Requirement already satisfied: pyyaml>=5.3.1 in /usr/local/lib/python3.11/dist-packages (from ultralytics) (6.0.2)\n",
      "Requirement already satisfied: requests>=2.23.0 in /usr/local/lib/python3.11/dist-packages (from ultralytics) (2.32.4)\n",
      "Requirement already satisfied: scipy>=1.4.1 in /usr/local/lib/python3.11/dist-packages (from ultralytics) (1.15.3)\n",
      "Requirement already satisfied: torch>=1.8.0 in /usr/local/lib/python3.11/dist-packages (from ultralytics) (2.6.0+cu124)\n",
      "Requirement already satisfied: torchvision>=0.9.0 in /usr/local/lib/python3.11/dist-packages (from ultralytics) (0.21.0+cu124)\n",
      "Requirement already satisfied: psutil in /usr/local/lib/python3.11/dist-packages (from ultralytics) (7.0.0)\n",
      "Requirement already satisfied: polars in /usr/local/lib/python3.11/dist-packages (from ultralytics) (1.21.0)\n",
      "Collecting ultralytics-thop>=2.0.0 (from ultralytics)\n",
      "  Downloading ultralytics_thop-2.0.17-py3-none-any.whl.metadata (14 kB)\n",
      "Requirement already satisfied: contourpy>=1.0.1 in /usr/local/lib/python3.11/dist-packages (from matplotlib>=3.3.0->ultralytics) (1.3.2)\n",
      "Requirement already satisfied: cycler>=0.10 in /usr/local/lib/python3.11/dist-packages (from matplotlib>=3.3.0->ultralytics) (0.12.1)\n",
      "Requirement already satisfied: fonttools>=4.22.0 in /usr/local/lib/python3.11/dist-packages (from matplotlib>=3.3.0->ultralytics) (4.58.4)\n",
      "Requirement already satisfied: kiwisolver>=1.0.1 in /usr/local/lib/python3.11/dist-packages (from matplotlib>=3.3.0->ultralytics) (1.4.8)\n",
      "Requirement already satisfied: packaging>=20.0 in /usr/local/lib/python3.11/dist-packages (from matplotlib>=3.3.0->ultralytics) (25.0)\n",
      "Requirement already satisfied: pyparsing<3.1,>=2.3.1 in /usr/local/lib/python3.11/dist-packages (from matplotlib>=3.3.0->ultralytics) (3.0.9)\n",
      "Requirement already satisfied: python-dateutil>=2.7 in /usr/local/lib/python3.11/dist-packages (from matplotlib>=3.3.0->ultralytics) (2.9.0.post0)\n",
      "Requirement already satisfied: mkl_fft in /usr/local/lib/python3.11/dist-packages (from numpy>=1.23.0->ultralytics) (1.3.8)\n",
      "Requirement already satisfied: mkl_random in /usr/local/lib/python3.11/dist-packages (from numpy>=1.23.0->ultralytics) (1.2.4)\n",
      "Requirement already satisfied: mkl_umath in /usr/local/lib/python3.11/dist-packages (from numpy>=1.23.0->ultralytics) (0.1.1)\n",
      "Requirement already satisfied: mkl in /usr/local/lib/python3.11/dist-packages (from numpy>=1.23.0->ultralytics) (2025.2.0)\n",
      "Requirement already satisfied: tbb4py in /usr/local/lib/python3.11/dist-packages (from numpy>=1.23.0->ultralytics) (2022.2.0)\n",
      "Requirement already satisfied: mkl-service in /usr/local/lib/python3.11/dist-packages (from numpy>=1.23.0->ultralytics) (2.4.1)\n",
      "Requirement already satisfied: charset_normalizer<4,>=2 in /usr/local/lib/python3.11/dist-packages (from requests>=2.23.0->ultralytics) (3.4.2)\n",
      "Requirement already satisfied: idna<4,>=2.5 in /usr/local/lib/python3.11/dist-packages (from requests>=2.23.0->ultralytics) (3.10)\n",
      "Requirement already satisfied: urllib3<3,>=1.21.1 in /usr/local/lib/python3.11/dist-packages (from requests>=2.23.0->ultralytics) (2.5.0)\n",
      "Requirement already satisfied: certifi>=2017.4.17 in /usr/local/lib/python3.11/dist-packages (from requests>=2.23.0->ultralytics) (2025.6.15)\n",
      "Requirement already satisfied: filelock in /usr/local/lib/python3.11/dist-packages (from torch>=1.8.0->ultralytics) (3.18.0)\n",
      "Requirement already satisfied: typing-extensions>=4.10.0 in /usr/local/lib/python3.11/dist-packages (from torch>=1.8.0->ultralytics) (4.14.0)\n",
      "Requirement already satisfied: networkx in /usr/local/lib/python3.11/dist-packages (from torch>=1.8.0->ultralytics) (3.5)\n",
      "Requirement already satisfied: jinja2 in /usr/local/lib/python3.11/dist-packages (from torch>=1.8.0->ultralytics) (3.1.6)\n",
      "Requirement already satisfied: fsspec in /usr/local/lib/python3.11/dist-packages (from torch>=1.8.0->ultralytics) (2025.5.1)\n",
      "Collecting nvidia-cuda-nvrtc-cu12==12.4.127 (from torch>=1.8.0->ultralytics)\n",
      "  Downloading nvidia_cuda_nvrtc_cu12-12.4.127-py3-none-manylinux2014_x86_64.whl.metadata (1.5 kB)\n",
      "Collecting nvidia-cuda-runtime-cu12==12.4.127 (from torch>=1.8.0->ultralytics)\n",
      "  Downloading nvidia_cuda_runtime_cu12-12.4.127-py3-none-manylinux2014_x86_64.whl.metadata (1.5 kB)\n",
      "Collecting nvidia-cuda-cupti-cu12==12.4.127 (from torch>=1.8.0->ultralytics)\n",
      "  Downloading nvidia_cuda_cupti_cu12-12.4.127-py3-none-manylinux2014_x86_64.whl.metadata (1.6 kB)\n",
      "Collecting nvidia-cudnn-cu12==9.1.0.70 (from torch>=1.8.0->ultralytics)\n",
      "  Downloading nvidia_cudnn_cu12-9.1.0.70-py3-none-manylinux2014_x86_64.whl.metadata (1.6 kB)\n",
      "Collecting nvidia-cublas-cu12==12.4.5.8 (from torch>=1.8.0->ultralytics)\n",
      "  Downloading nvidia_cublas_cu12-12.4.5.8-py3-none-manylinux2014_x86_64.whl.metadata (1.5 kB)\n",
      "Collecting nvidia-cufft-cu12==11.2.1.3 (from torch>=1.8.0->ultralytics)\n",
      "  Downloading nvidia_cufft_cu12-11.2.1.3-py3-none-manylinux2014_x86_64.whl.metadata (1.5 kB)\n",
      "Collecting nvidia-curand-cu12==10.3.5.147 (from torch>=1.8.0->ultralytics)\n",
      "  Downloading nvidia_curand_cu12-10.3.5.147-py3-none-manylinux2014_x86_64.whl.metadata (1.5 kB)\n",
      "Collecting nvidia-cusolver-cu12==11.6.1.9 (from torch>=1.8.0->ultralytics)\n",
      "  Downloading nvidia_cusolver_cu12-11.6.1.9-py3-none-manylinux2014_x86_64.whl.metadata (1.6 kB)\n",
      "Collecting nvidia-cusparse-cu12==12.3.1.170 (from torch>=1.8.0->ultralytics)\n",
      "  Downloading nvidia_cusparse_cu12-12.3.1.170-py3-none-manylinux2014_x86_64.whl.metadata (1.6 kB)\n",
      "Requirement already satisfied: nvidia-cusparselt-cu12==0.6.2 in /usr/local/lib/python3.11/dist-packages (from torch>=1.8.0->ultralytics) (0.6.2)\n",
      "Requirement already satisfied: nvidia-nccl-cu12==2.21.5 in /usr/local/lib/python3.11/dist-packages (from torch>=1.8.0->ultralytics) (2.21.5)\n",
      "Requirement already satisfied: nvidia-nvtx-cu12==12.4.127 in /usr/local/lib/python3.11/dist-packages (from torch>=1.8.0->ultralytics) (12.4.127)\n",
      "Collecting nvidia-nvjitlink-cu12==12.4.127 (from torch>=1.8.0->ultralytics)\n",
      "  Downloading nvidia_nvjitlink_cu12-12.4.127-py3-none-manylinux2014_x86_64.whl.metadata (1.5 kB)\n",
      "Requirement already satisfied: triton==3.2.0 in /usr/local/lib/python3.11/dist-packages (from torch>=1.8.0->ultralytics) (3.2.0)\n",
      "Requirement already satisfied: sympy==1.13.1 in /usr/local/lib/python3.11/dist-packages (from torch>=1.8.0->ultralytics) (1.13.1)\n",
      "Requirement already satisfied: mpmath<1.4,>=1.1.0 in /usr/local/lib/python3.11/dist-packages (from sympy==1.13.1->torch>=1.8.0->ultralytics) (1.3.0)\n",
      "Requirement already satisfied: six>=1.5 in /usr/local/lib/python3.11/dist-packages (from python-dateutil>=2.7->matplotlib>=3.3.0->ultralytics) (1.17.0)\n",
      "Requirement already satisfied: MarkupSafe>=2.0 in /usr/local/lib/python3.11/dist-packages (from jinja2->torch>=1.8.0->ultralytics) (3.0.2)\n",
      "Requirement already satisfied: intel-openmp<2026,>=2024 in /usr/local/lib/python3.11/dist-packages (from mkl->numpy>=1.23.0->ultralytics) (2024.2.0)\n",
      "Requirement already satisfied: tbb==2022.* in /usr/local/lib/python3.11/dist-packages (from mkl->numpy>=1.23.0->ultralytics) (2022.2.0)\n",
      "Requirement already satisfied: tcmlib==1.* in /usr/local/lib/python3.11/dist-packages (from tbb==2022.*->mkl->numpy>=1.23.0->ultralytics) (1.4.0)\n",
      "Requirement already satisfied: intel-cmplr-lib-rt in /usr/local/lib/python3.11/dist-packages (from mkl_umath->numpy>=1.23.0->ultralytics) (2024.2.0)\n",
      "Requirement already satisfied: intel-cmplr-lib-ur==2024.2.0 in /usr/local/lib/python3.11/dist-packages (from intel-openmp<2026,>=2024->mkl->numpy>=1.23.0->ultralytics) (2024.2.0)\n",
      "Downloading ultralytics-8.3.200-py3-none-any.whl (1.1 MB)\n",
      "\u001b[2K   \u001b[90m━━━━━━━━━━━━━━━━━━━━━━━━━━━━━━━━━━━━━━━━\u001b[0m \u001b[32m1.1/1.1 MB\u001b[0m \u001b[31m18.4 MB/s\u001b[0m eta \u001b[36m0:00:00\u001b[0ma \u001b[36m0:00:01\u001b[0m\n",
      "\u001b[?25hDownloading nvidia_cublas_cu12-12.4.5.8-py3-none-manylinux2014_x86_64.whl (363.4 MB)\n",
      "\u001b[2K   \u001b[90m━━━━━━━━━━━━━━━━━━━━━━━━━━━━━━━━━━━━━━━━\u001b[0m \u001b[32m363.4/363.4 MB\u001b[0m \u001b[31m4.6 MB/s\u001b[0m eta \u001b[36m0:00:00\u001b[0m:00:01\u001b[0m00:01\u001b[0m\n",
      "\u001b[?25hDownloading nvidia_cuda_cupti_cu12-12.4.127-py3-none-manylinux2014_x86_64.whl (13.8 MB)\n",
      "\u001b[2K   \u001b[90m━━━━━━━━━━━━━━━━━━━━━━━━━━━━━━━━━━━━━━━━\u001b[0m \u001b[32m13.8/13.8 MB\u001b[0m \u001b[31m66.4 MB/s\u001b[0m eta \u001b[36m0:00:00\u001b[0m00:01\u001b[0m0:01\u001b[0mm\n",
      "\u001b[?25hDownloading nvidia_cuda_nvrtc_cu12-12.4.127-py3-none-manylinux2014_x86_64.whl (24.6 MB)\n",
      "\u001b[2K   \u001b[90m━━━━━━━━━━━━━━━━━━━━━━━━━━━━━━━━━━━━━━━━\u001b[0m \u001b[32m24.6/24.6 MB\u001b[0m \u001b[31m82.5 MB/s\u001b[0m eta \u001b[36m0:00:00\u001b[0m:00:01\u001b[0m00:01\u001b[0m\n",
      "\u001b[?25hDownloading nvidia_cuda_runtime_cu12-12.4.127-py3-none-manylinux2014_x86_64.whl (883 kB)\n",
      "\u001b[2K   \u001b[90m━━━━━━━━━━━━━━━━━━━━━━━━━━━━━━━━━━━━━━━━\u001b[0m \u001b[32m883.7/883.7 kB\u001b[0m \u001b[31m47.4 MB/s\u001b[0m eta \u001b[36m0:00:00\u001b[0m\n",
      "\u001b[?25hDownloading nvidia_cudnn_cu12-9.1.0.70-py3-none-manylinux2014_x86_64.whl (664.8 MB)\n",
      "\u001b[2K   \u001b[90m━━━━━━━━━━━━━━━━━━━━━━━━━━━━━━━━━━━━━━━━\u001b[0m \u001b[32m664.8/664.8 MB\u001b[0m \u001b[31m2.4 MB/s\u001b[0m eta \u001b[36m0:00:00\u001b[0m:00:01\u001b[0m00:01\u001b[0m\n",
      "\u001b[?25hDownloading nvidia_cufft_cu12-11.2.1.3-py3-none-manylinux2014_x86_64.whl (211.5 MB)\n",
      "\u001b[2K   \u001b[90m━━━━━━━━━━━━━━━━━━━━━━━━━━━━━━━━━━━━━━━━\u001b[0m \u001b[32m211.5/211.5 MB\u001b[0m \u001b[31m1.9 MB/s\u001b[0m eta \u001b[36m0:00:00\u001b[0m:00:01\u001b[0m00:01\u001b[0m\n",
      "\u001b[?25hDownloading nvidia_curand_cu12-10.3.5.147-py3-none-manylinux2014_x86_64.whl (56.3 MB)\n",
      "\u001b[2K   \u001b[90m━━━━━━━━━━━━━━━━━━━━━━━━━━━━━━━━━━━━━━━━\u001b[0m \u001b[32m56.3/56.3 MB\u001b[0m \u001b[31m32.1 MB/s\u001b[0m eta \u001b[36m0:00:00\u001b[0m:00:01\u001b[0m00:01\u001b[0m\n",
      "\u001b[?25hDownloading nvidia_cusolver_cu12-11.6.1.9-py3-none-manylinux2014_x86_64.whl (127.9 MB)\n",
      "\u001b[2K   \u001b[90m━━━━━━━━━━━━━━━━━━━━━━━━━━━━━━━━━━━━━━━━\u001b[0m \u001b[32m127.9/127.9 MB\u001b[0m \u001b[31m13.6 MB/s\u001b[0m eta \u001b[36m0:00:00\u001b[0m00:01\u001b[0m00:01\u001b[0m\n",
      "\u001b[?25hDownloading nvidia_cusparse_cu12-12.3.1.170-py3-none-manylinux2014_x86_64.whl (207.5 MB)\n",
      "\u001b[2K   \u001b[90m━━━━━━━━━━━━━━━━━━━━━━━━━━━━━━━━━━━━━━━━\u001b[0m \u001b[32m207.5/207.5 MB\u001b[0m \u001b[31m8.3 MB/s\u001b[0m eta \u001b[36m0:00:00\u001b[0m:00:01\u001b[0m00:01\u001b[0m\n",
      "\u001b[?25hDownloading nvidia_nvjitlink_cu12-12.4.127-py3-none-manylinux2014_x86_64.whl (21.1 MB)\n",
      "\u001b[2K   \u001b[90m━━━━━━━━━━━━━━━━━━━━━━━━━━━━━━━━━━━━━━━━\u001b[0m \u001b[32m21.1/21.1 MB\u001b[0m \u001b[31m84.2 MB/s\u001b[0m eta \u001b[36m0:00:00\u001b[0m:00:01\u001b[0m00:01\u001b[0m\n",
      "\u001b[?25hDownloading ultralytics_thop-2.0.17-py3-none-any.whl (28 kB)\n",
      "Installing collected packages: nvidia-nvjitlink-cu12, nvidia-curand-cu12, nvidia-cufft-cu12, nvidia-cuda-runtime-cu12, nvidia-cuda-nvrtc-cu12, nvidia-cuda-cupti-cu12, nvidia-cublas-cu12, nvidia-cusparse-cu12, nvidia-cudnn-cu12, nvidia-cusolver-cu12, ultralytics-thop, ultralytics\n",
      "  Attempting uninstall: nvidia-nvjitlink-cu12\n",
      "    Found existing installation: nvidia-nvjitlink-cu12 12.5.82\n",
      "    Uninstalling nvidia-nvjitlink-cu12-12.5.82:\n",
      "      Successfully uninstalled nvidia-nvjitlink-cu12-12.5.82\n",
      "  Attempting uninstall: nvidia-curand-cu12\n",
      "    Found existing installation: nvidia-curand-cu12 10.3.6.82\n",
      "    Uninstalling nvidia-curand-cu12-10.3.6.82:\n",
      "      Successfully uninstalled nvidia-curand-cu12-10.3.6.82\n",
      "  Attempting uninstall: nvidia-cufft-cu12\n",
      "    Found existing installation: nvidia-cufft-cu12 11.2.3.61\n",
      "    Uninstalling nvidia-cufft-cu12-11.2.3.61:\n",
      "      Successfully uninstalled nvidia-cufft-cu12-11.2.3.61\n",
      "  Attempting uninstall: nvidia-cuda-runtime-cu12\n",
      "    Found existing installation: nvidia-cuda-runtime-cu12 12.5.82\n",
      "    Uninstalling nvidia-cuda-runtime-cu12-12.5.82:\n",
      "      Successfully uninstalled nvidia-cuda-runtime-cu12-12.5.82\n",
      "  Attempting uninstall: nvidia-cuda-nvrtc-cu12\n",
      "    Found existing installation: nvidia-cuda-nvrtc-cu12 12.5.82\n",
      "    Uninstalling nvidia-cuda-nvrtc-cu12-12.5.82:\n",
      "      Successfully uninstalled nvidia-cuda-nvrtc-cu12-12.5.82\n",
      "  Attempting uninstall: nvidia-cuda-cupti-cu12\n",
      "    Found existing installation: nvidia-cuda-cupti-cu12 12.5.82\n",
      "    Uninstalling nvidia-cuda-cupti-cu12-12.5.82:\n",
      "      Successfully uninstalled nvidia-cuda-cupti-cu12-12.5.82\n",
      "  Attempting uninstall: nvidia-cublas-cu12\n",
      "    Found existing installation: nvidia-cublas-cu12 12.5.3.2\n",
      "    Uninstalling nvidia-cublas-cu12-12.5.3.2:\n",
      "      Successfully uninstalled nvidia-cublas-cu12-12.5.3.2\n",
      "  Attempting uninstall: nvidia-cusparse-cu12\n",
      "    Found existing installation: nvidia-cusparse-cu12 12.5.1.3\n",
      "    Uninstalling nvidia-cusparse-cu12-12.5.1.3:\n",
      "      Successfully uninstalled nvidia-cusparse-cu12-12.5.1.3\n",
      "  Attempting uninstall: nvidia-cudnn-cu12\n",
      "    Found existing installation: nvidia-cudnn-cu12 9.3.0.75\n",
      "    Uninstalling nvidia-cudnn-cu12-9.3.0.75:\n",
      "      Successfully uninstalled nvidia-cudnn-cu12-9.3.0.75\n",
      "  Attempting uninstall: nvidia-cusolver-cu12\n",
      "    Found existing installation: nvidia-cusolver-cu12 11.6.3.83\n",
      "    Uninstalling nvidia-cusolver-cu12-11.6.3.83:\n",
      "      Successfully uninstalled nvidia-cusolver-cu12-11.6.3.83\n",
      "Successfully installed nvidia-cublas-cu12-12.4.5.8 nvidia-cuda-cupti-cu12-12.4.127 nvidia-cuda-nvrtc-cu12-12.4.127 nvidia-cuda-runtime-cu12-12.4.127 nvidia-cudnn-cu12-9.1.0.70 nvidia-cufft-cu12-11.2.1.3 nvidia-curand-cu12-10.3.5.147 nvidia-cusolver-cu12-11.6.1.9 nvidia-cusparse-cu12-12.3.1.170 nvidia-nvjitlink-cu12-12.4.127 ultralytics-8.3.200 ultralytics-thop-2.0.17\n"
     ]
    }
   ],
   "source": [
    "!pip install ultralytics"
   ]
  },
  {
   "cell_type": "code",
   "execution_count": 1,
   "metadata": {
    "_cell_guid": "b1076dfc-b9ad-4769-8c92-a6c4dae69d19",
    "_uuid": "8f2839f25d086af736a60e9eeb907d3b93b6e0e5",
    "execution": {
     "iopub.execute_input": "2025-09-16T19:21:29.988161Z",
     "iopub.status.busy": "2025-09-16T19:21:29.987484Z",
     "iopub.status.idle": "2025-09-16T19:21:33.268673Z",
     "shell.execute_reply": "2025-09-16T19:21:33.267870Z",
     "shell.execute_reply.started": "2025-09-16T19:21:29.988136Z"
    },
    "trusted": true
   },
   "outputs": [],
   "source": [
    "import torch\n",
    "import torch.nn as nn\n",
    "import torch.nn.functional as F \n",
    "import torchvision.transforms as transforms\n",
    "import cv2\n",
    "import numpy as np\n",
    "from PIL import Image\n",
    "from collections import deque\n",
    "from ultralytics import YOLO"
   ]
  },
  {
   "cell_type": "code",
   "execution_count": 2,
   "metadata": {
    "execution": {
     "iopub.execute_input": "2025-09-16T19:21:37.491959Z",
     "iopub.status.busy": "2025-09-16T19:21:37.491611Z",
     "iopub.status.idle": "2025-09-16T19:21:37.520628Z",
     "shell.execute_reply": "2025-09-16T19:21:37.519972Z",
     "shell.execute_reply.started": "2025-09-16T19:21:37.491940Z"
    },
    "trusted": true
   },
   "outputs": [],
   "source": [
    "# --- 1. Configuration ---\n",
    "DEVICE = \"cuda\" if torch.cuda.is_available() else \"cpu\"\n",
    "CHECKPOINT_PATH = \"/kaggle/input/new-trained-models/trained_model/best_model.pth.tar\"\n",
    "VIDEO_PATH = \"/kaggle/input/test-clips/clip4.mp4\"\n",
    "OUTPUT_VIDEO_PATH = \"/kaggle/working/final-object-output-clip4.mp4\""
   ]
  },
  {
   "cell_type": "code",
   "execution_count": 3,
   "metadata": {
    "execution": {
     "iopub.execute_input": "2025-09-16T19:21:38.651438Z",
     "iopub.status.busy": "2025-09-16T19:21:38.650723Z",
     "iopub.status.idle": "2025-09-16T19:21:38.655364Z",
     "shell.execute_reply": "2025-09-16T19:21:38.654654Z",
     "shell.execute_reply.started": "2025-09-16T19:21:38.651416Z"
    },
    "trusted": true
   },
   "outputs": [],
   "source": [
    "IMG_HEIGHT, IMG_WIDTH = 288, 512\n",
    "THRESHOLD = 0.4\n",
    "USE_IMAGENET_NORM = True\n",
    "SMOOTHING_WINDOW = 7 # Frames to average over"
   ]
  },
  {
   "cell_type": "code",
   "execution_count": 4,
   "metadata": {
    "execution": {
     "iopub.execute_input": "2025-09-16T19:21:39.975155Z",
     "iopub.status.busy": "2025-09-16T19:21:39.974434Z",
     "iopub.status.idle": "2025-09-16T19:21:39.983568Z",
     "shell.execute_reply": "2025-09-16T19:21:39.982818Z",
     "shell.execute_reply.started": "2025-09-16T19:21:39.975132Z"
    },
    "trusted": true
   },
   "outputs": [],
   "source": [
    "# ===================== U-Net Model =====================\n",
    "class UNet(nn.Module):\n",
    "    def __init__(self, in_channels=3, out_channels=1, features=[64, 128, 256, 512]):\n",
    "        super(UNet, self).__init__()\n",
    "        self.downs = nn.ModuleList()\n",
    "        self.ups = nn.ModuleList()\n",
    "        self.pool = nn.MaxPool2d(2, 2)\n",
    "\n",
    "        # Downsampling\n",
    "        for feature in features:\n",
    "            self.downs.append(self.double_conv(in_channels, feature))\n",
    "            in_channels = feature\n",
    "\n",
    "        # Bottleneck\n",
    "        self.bottleneck = self.double_conv(features[-1], features[-1] * 2)\n",
    "\n",
    "        # Upsampling\n",
    "        for feature in reversed(features):\n",
    "            self.ups.append(nn.ConvTranspose2d(feature * 2, feature, kernel_size=2, stride=2))\n",
    "            self.ups.append(self.double_conv(feature * 2, feature))\n",
    "\n",
    "        self.final_conv = nn.Conv2d(features[0], out_channels, kernel_size=1)\n",
    "\n",
    "    def forward(self, x):\n",
    "        skip_connections = []\n",
    "\n",
    "        for down in self.downs:\n",
    "            x = down(x)\n",
    "            skip_connections.append(x)\n",
    "            x = self.pool(x)\n",
    "\n",
    "        x = self.bottleneck(x)\n",
    "        skip_connections = skip_connections[::-1]\n",
    "\n",
    "        for idx in range(0, len(self.ups), 2):\n",
    "            x = self.ups[idx](x)\n",
    "            skip_connection = skip_connections[idx // 2]\n",
    "            if x.shape != skip_connection.shape:\n",
    "                x = F.interpolate(x, size=skip_connection.shape[2:])\n",
    "            x = torch.cat((skip_connection, x), dim=1)\n",
    "            x = self.ups[idx + 1](x)\n",
    "\n",
    "        return self.final_conv(x)\n",
    "\n",
    "    @staticmethod\n",
    "    def double_conv(in_channels, out_channels):\n",
    "        return nn.Sequential(\n",
    "            nn.Conv2d(in_channels, out_channels, 3, padding=1, bias=False),\n",
    "            nn.BatchNorm2d(out_channels),\n",
    "            nn.ReLU(inplace=True),\n",
    "            nn.Conv2d(out_channels, out_channels, 3, padding=1, bias=False),\n",
    "            nn.BatchNorm2d(out_channels),\n",
    "            nn.ReLU(inplace=True),\n",
    "        )"
   ]
  },
  {
   "cell_type": "code",
   "execution_count": 5,
   "metadata": {
    "execution": {
     "iopub.execute_input": "2025-09-16T19:21:42.380226Z",
     "iopub.status.busy": "2025-09-16T19:21:42.379577Z",
     "iopub.status.idle": "2025-09-16T19:21:42.385566Z",
     "shell.execute_reply": "2025-09-16T19:21:42.384820Z",
     "shell.execute_reply.started": "2025-09-16T19:21:42.380207Z"
    },
    "trusted": true
   },
   "outputs": [],
   "source": [
    "# --- MODIFIED: Lane History now stores and averages polynomial fits ---\n",
    "class LaneHistory:\n",
    "    def __init__(self, queue_size=SMOOTHING_WINDOW, tolerance=10):\n",
    "        self.left_fit = deque(maxlen=queue_size)\n",
    "        self.right_fit = deque(maxlen=queue_size)\n",
    "        self.missed_frames = 0\n",
    "        self.tolerance = tolerance\n",
    "\n",
    "    def add_fit(self, left_fit, right_fit):\n",
    "        if left_fit is None or right_fit is None:\n",
    "            self.missed_frames += 1\n",
    "        else:\n",
    "            self.left_fit.append(left_fit)\n",
    "            self.right_fit.append(right_fit)\n",
    "            self.missed_frames = 0\n",
    "\n",
    "    def get_average_fit(self):\n",
    "        if self.missed_frames > self.tolerance:\n",
    "            self.left_fit.clear()\n",
    "            self.right_fit.clear()\n",
    "            return None, None\n",
    "        if not self.left_fit or not self.right_fit:\n",
    "            return None, None\n",
    "            \n",
    "        avg_left_fit = np.mean(self.left_fit, axis=0)\n",
    "        avg_right_fit = np.mean(self.right_fit, axis=0)\n",
    "        return avg_left_fit, avg_right_fit"
   ]
  },
  {
   "cell_type": "code",
   "execution_count": 6,
   "metadata": {
    "execution": {
     "iopub.execute_input": "2025-09-16T19:21:44.241246Z",
     "iopub.status.busy": "2025-09-16T19:21:44.240976Z",
     "iopub.status.idle": "2025-09-16T19:21:45.043575Z",
     "shell.execute_reply": "2025-09-16T19:21:45.042881Z",
     "shell.execute_reply.started": "2025-09-16T19:21:44.241226Z"
    },
    "trusted": true
   },
   "outputs": [
    {
     "name": "stdout",
     "output_type": "stream",
     "text": [
      "=> Loading trained model...\n",
      "✅ Model loaded successfully!\n"
     ]
    }
   ],
   "source": [
    "# --- Load Model (same as your version) ---\n",
    "print(\"=> Loading trained model...\")\n",
    "model = UNet(in_channels=3, out_channels=1).to(DEVICE)\n",
    "checkpoint = torch.load(CHECKPOINT_PATH, map_location=DEVICE)\n",
    "model.load_state_dict(checkpoint[\"state_dict\"])\n",
    "model.eval()\n",
    "print(\"✅ Model loaded successfully!\")"
   ]
  },
  {
   "cell_type": "code",
   "execution_count": 7,
   "metadata": {
    "execution": {
     "iopub.execute_input": "2025-09-16T19:21:46.273531Z",
     "iopub.status.busy": "2025-09-16T19:21:46.272905Z",
     "iopub.status.idle": "2025-09-16T19:21:46.324211Z",
     "shell.execute_reply": "2025-09-16T19:21:46.323488Z",
     "shell.execute_reply.started": "2025-09-16T19:21:46.273507Z"
    },
    "trusted": true
   },
   "outputs": [
    {
     "name": "stdout",
     "output_type": "stream",
     "text": [
      "=> Loading YOLOv8 object detection model...\n",
      "✅ YOLOv8 model loaded successfully!\n"
     ]
    }
   ],
   "source": [
    "# --- Load Object Detection Model (YOLOv8) ---\n",
    "print(\"=> Loading YOLOv8 object detection model...\")\n",
    "yolo_model = YOLO(\"yolov8s.pt\") \n",
    "print(\"✅ YOLOv8 model loaded successfully!\")\n"
   ]
  },
  {
   "cell_type": "code",
   "execution_count": 8,
   "metadata": {
    "execution": {
     "iopub.execute_input": "2025-09-16T19:21:47.973910Z",
     "iopub.status.busy": "2025-09-16T19:21:47.973628Z",
     "iopub.status.idle": "2025-09-16T19:21:47.978142Z",
     "shell.execute_reply": "2025-09-16T19:21:47.977590Z",
     "shell.execute_reply.started": "2025-09-16T19:21:47.973891Z"
    },
    "trusted": true
   },
   "outputs": [],
   "source": [
    "# --- Preprocessing ---\n",
    "transform_list = [transforms.Resize((IMG_HEIGHT, IMG_WIDTH)), transforms.ToTensor()]\n",
    "if USE_IMAGENET_NORM:\n",
    "    transform_list.append(transforms.Normalize(mean=[0.485, 0.456, 0.406],\n",
    "                                               std=[0.229, 0.224, 0.225]))\n",
    "transform = transforms.Compose(transform_list)"
   ]
  },
  {
   "cell_type": "code",
   "execution_count": 9,
   "metadata": {
    "execution": {
     "iopub.execute_input": "2025-09-16T19:21:49.178727Z",
     "iopub.status.busy": "2025-09-16T19:21:49.178405Z",
     "iopub.status.idle": "2025-09-16T19:21:49.183156Z",
     "shell.execute_reply": "2025-09-16T19:21:49.182510Z",
     "shell.execute_reply.started": "2025-09-16T19:21:49.178707Z"
    },
    "trusted": true
   },
   "outputs": [],
   "source": [
    "# --- Perspective Transform ---\n",
    "def get_perspective_transform(frame_w, frame_h):\n",
    "    src = np.float32([\n",
    "        [frame_w*0.45, frame_h*0.6],\n",
    "        [frame_w*0.55, frame_h*0.6],\n",
    "        [frame_w*0.1, frame_h*0.95],\n",
    "        [frame_w*0.9, frame_h*0.95]\n",
    "    ])\n",
    "    dst = np.float32([\n",
    "        [frame_w*0.25, 0],\n",
    "        [frame_w*0.75, 0],\n",
    "        [frame_w*0.25, frame_h],\n",
    "        [frame_w*0.75, frame_h]\n",
    "    ])\n",
    "    return cv2.getPerspectiveTransform(src, dst), cv2.getPerspectiveTransform(dst, src)\n"
   ]
  },
  {
   "cell_type": "code",
   "execution_count": 10,
   "metadata": {
    "execution": {
     "iopub.execute_input": "2025-09-16T19:21:50.704163Z",
     "iopub.status.busy": "2025-09-16T19:21:50.703600Z",
     "iopub.status.idle": "2025-09-16T19:21:50.708955Z",
     "shell.execute_reply": "2025-09-16T19:21:50.708087Z",
     "shell.execute_reply.started": "2025-09-16T19:21:50.704144Z"
    },
    "trusted": true
   },
   "outputs": [],
   "source": [
    "def fit_polynomial(mask):\n",
    "    h, w = mask.shape\n",
    "    ys, xs = np.where(mask > 0)\n",
    "    if len(ys) < 100:\n",
    "        return None, None\n",
    "    midpoint = w // 2\n",
    "    left_ys, left_xs = ys[xs < midpoint], xs[xs < midpoint]\n",
    "    right_ys, right_xs = ys[xs >= midpoint], xs[xs >= midpoint]\n",
    "    left_fit, right_fit = None, None\n",
    "    if len(left_ys) > 100:\n",
    "        left_fit = np.polyfit(left_ys, left_xs, 2)\n",
    "    if len(right_ys) > 100:\n",
    "        right_fit = np.polyfit(right_ys, right_xs, 2)\n",
    "    return left_fit, right_fit"
   ]
  },
  {
   "cell_type": "code",
   "execution_count": 11,
   "metadata": {
    "execution": {
     "iopub.execute_input": "2025-09-16T19:21:52.114603Z",
     "iopub.status.busy": "2025-09-16T19:21:52.113904Z",
     "iopub.status.idle": "2025-09-16T19:28:21.395806Z",
     "shell.execute_reply": "2025-09-16T19:28:21.394960Z",
     "shell.execute_reply.started": "2025-09-16T19:21:52.114574Z"
    },
    "trusted": true
   },
   "outputs": [
    {
     "name": "stdout",
     "output_type": "stream",
     "text": [
      "\n",
      "Processing video with temporal smoothing...\n",
      "✅ Final video processing complete.\n"
     ]
    }
   ],
   "source": [
    "# --- Main Video Loop (MODIFIED to use smoothing) ---\n",
    "cap = cv2.VideoCapture(VIDEO_PATH)\n",
    "frame_w, frame_h = int(cap.get(3)), int(cap.get(4))\n",
    "fps = int(cap.get(cv2.CAP_PROP_FPS))\n",
    "fps = fps if fps > 0 else 30\n",
    "out = cv2.VideoWriter(OUTPUT_VIDEO_PATH, cv2.VideoWriter_fourcc(*'mp4v'), fps, (frame_w, frame_h))\n",
    "\n",
    "M, Minv = get_perspective_transform(frame_w, frame_h)\n",
    "lane_history = LaneHistory()\n",
    "\n",
    "print(\"\\nProcessing video with temporal smoothing...\")\n",
    "frame_count = 0\n",
    "while cap.isOpened():\n",
    "    ret, frame = cap.read()\n",
    "    if not ret:\n",
    "        break\n",
    "\n",
    "    # print(f\"Processing frame {frame_count}...\")\n",
    "\n",
    "    # --- Preprocess + Predict (same as before) ---\n",
    "    pil_image = Image.fromarray(cv2.cvtColor(frame, cv2.COLOR_BGR2RGB))\n",
    "    image_tensor = transform(pil_image).unsqueeze(0).to(DEVICE)\n",
    "    with torch.no_grad():\n",
    "        pred = torch.sigmoid(model(image_tensor))\n",
    "        pred = (pred > THRESHOLD).float()\n",
    "    pred_mask = pred.squeeze().cpu().numpy()\n",
    "    pred_mask = cv2.resize(pred_mask, (frame_w, frame_h), interpolation=cv2.INTER_NEAREST)\n",
    "\n",
    "    # print(\"Prediction done.\")\n",
    "\n",
    "    # --- Warp, Fit, and Smooth ---\n",
    "    warped_mask = cv2.warpPerspective(pred_mask, M, (frame_w, frame_h))\n",
    "    current_left_fit, current_right_fit = fit_polynomial(warped_mask)\n",
    "\n",
    "    # print(f\"  - Current fits: L={current_left_fit is not None}, R={current_right_fit is not None}\")\n",
    "\n",
    "    lane_history.add_fit(current_left_fit, current_right_fit)\n",
    "    avg_left_fit, avg_right_fit = lane_history.get_average_fit()\n",
    "\n",
    "    # print(f\"  - Average fits: L={avg_left_fit is not None}, R={avg_right_fit is not None}\")\n",
    "\n",
    "    # --- Draw overlay and warnings using the SMOOTHED fit ---\n",
    "    final_frame = frame.copy()\n",
    "    y_range = np.linspace(0, frame_h - 1, frame_h)\n",
    "\n",
    "    overlay = frame.copy()\n",
    "    lane_detected = False\n",
    "\n",
    "    if avg_left_fit is not None:\n",
    "        left_avg_x = avg_left_fit[0]*y_range**2 + avg_left_fit[1]*y_range + avg_left_fit[2]\n",
    "        pts_left = np.array([np.transpose(np.vstack([left_avg_x, y_range]))]).astype(np.float32)\n",
    "        unwarped_left = cv2.perspectiveTransform(pts_left, Minv).astype(np.int32)\n",
    "        cv2.polylines(overlay, [unwarped_left], isClosed=False, color=(0, 255, 255), thickness=8)\n",
    "        lane_detected = True\n",
    "\n",
    "    if avg_right_fit is not None:\n",
    "        right_avg_x = avg_right_fit[0]*y_range**2 + avg_right_fit[1]*y_range + avg_right_fit[2]\n",
    "        pts_right = np.array([np.transpose(np.vstack([right_avg_x, y_range]))]).astype(np.float32)\n",
    "        unwarped_right = cv2.perspectiveTransform(pts_right, Minv).astype(np.int32)\n",
    "        cv2.polylines(overlay, [unwarped_right], isClosed=False, color=(255, 255, 0), thickness=8)\n",
    "        lane_detected = True\n",
    "\n",
    "    if avg_left_fit is not None and avg_right_fit is not None:\n",
    "        # Draw filled polygon between lanes\n",
    "        pts_left = np.array([np.transpose(np.vstack([left_avg_x, y_range]))])\n",
    "        pts_right = np.array([np.flipud(np.transpose(np.vstack([right_avg_x, y_range])))])\n",
    "        pts = np.hstack((pts_left, pts_right)).astype(np.float32)\n",
    "        unwarped_pts = cv2.perspectiveTransform(pts, Minv).astype(np.int32)\n",
    "        cv2.fillPoly(overlay, [unwarped_pts], (0, 255, 0))\n",
    "\n",
    "        # Lane departure warning\n",
    "        y_bottom = frame_h - 1\n",
    "        left_x_bottom = np.polyval(avg_left_fit, y_bottom)\n",
    "        right_x_bottom = np.polyval(avg_right_fit, y_bottom)\n",
    "        lane_center = (left_x_bottom + right_x_bottom) / 2\n",
    "        deviation = abs(frame_w/2 - lane_center)\n",
    "        lane_width = abs(right_x_bottom - left_x_bottom)\n",
    "\n",
    "        warning_text = \"Safe\" if deviation <= lane_width * 0.35 else \"⚠ Lane Departure!\"\n",
    "        color = (0, 0, 255) if \"⚠\" in warning_text else (0, 255, 0)\n",
    "    elif lane_detected:\n",
    "        # Only one lane detected → partial support\n",
    "        warning_text = \"Partial Lane Detected\"\n",
    "        color = (0, 165, 255)  # orange\n",
    "    else:\n",
    "        warning_text = \"WARNING: Lane Lost!\"\n",
    "        color = (0, 0, 255)\n",
    "    \n",
    "\n",
    "\n",
    "    # Blend overlay\n",
    "    final_frame = cv2.addWeighted(frame, 1, overlay, 0.4 if lane_detected else 0, 0)\n",
    "        # --- C. OBSTACLE DETECTION ---\n",
    "    obstacle_results = yolo_model.predict(frame, imgsz=640, conf=0.4, verbose=False)\n",
    "\n",
    "    for r in obstacle_results:\n",
    "        for box in r.boxes:\n",
    "            class_name = yolo_model.names[int(box.cls[0])]\n",
    "\n",
    "            if class_name in ['car', 'truck', 'bus', 'motorcycle']:\n",
    "                x1, y1, x2, y2 = map(int, box.xyxy[0])\n",
    "\n",
    "                if avg_left_fit is not None and avg_right_fit is not None:\n",
    "                    # Take bottom-center of the vehicle in image space\n",
    "                    vehicle_bottom_center = np.array([[(x1 + x2) / 2, y2]], dtype=np.float32)\n",
    "\n",
    "                    # Transform to bird’s-eye-view\n",
    "                    vehicle_bev = cv2.perspectiveTransform(vehicle_bottom_center[None, :, :], M)\n",
    "                    vx, vy = int(vehicle_bev[0][0][0]), int(vehicle_bev[0][0][1])\n",
    "\n",
    "                    # Lane boundaries at the vehicle’s y-coordinate\n",
    "                    left_x = np.polyval(avg_left_fit, vy)\n",
    "                    right_x = np.polyval(avg_right_fit, vy)\n",
    "\n",
    "                    # Check lane occupancy\n",
    "                    if vx < left_x or vx > right_x:\n",
    "                        # Vehicle is outside ego lane → obstacle in adjacent lane\n",
    "                        cv2.rectangle(final_frame, (x1, y1), (x2, y2), (255, 165, 0), 2) # Orange\n",
    "                        cv2.putText(final_frame, f\"OBSTACLE: {class_name.upper()}\",\n",
    "                                    (x1, y1 - 10), cv2.FONT_HERSHEY_SIMPLEX,\n",
    "                                    0.9, (255, 165, 0), 2)\n",
    "                    else:\n",
    "                        # Optional: draw vehicles in ego lane with green box\n",
    "                        cv2.rectangle(final_frame, (x1, y1), (x2, y2), (0, 255, 0), 2)\n",
    "                        cv2.putText(final_frame, class_name, (x1, y1 - 10),\n",
    "                                    cv2.FONT_HERSHEY_SIMPLEX, 0.7, (0, 255, 0), 2)\n",
    "\n",
    "    # Draw warning box + text\n",
    "    cv2.rectangle(final_frame, (40, 15), (420, 70), (0, 0, 0), -1)\n",
    "    cv2.putText(final_frame, warning_text, (50, 55),\n",
    "                cv2.FONT_HERSHEY_SIMPLEX, 1.3, color, 3, cv2.LINE_AA)\n",
    "\n",
    "    # print(\"Overlay and warnings drawn.\\n\")\n",
    "    out.write(final_frame)\n",
    "    # print(\"Frame written to output.\")\n",
    "    frame_count += 1\n",
    "\n",
    "cap.release()\n",
    "out.release()\n",
    "print(f\"✅ Final video processing complete.\")\n"
   ]
  },
  {
   "cell_type": "code",
   "execution_count": null,
   "metadata": {
    "trusted": true
   },
   "outputs": [],
   "source": []
  }
 ],
 "metadata": {
  "kaggle": {
   "accelerator": "gpu",
   "dataSources": [
    {
     "datasetId": 8191445,
     "sourceId": 12983363,
     "sourceType": "datasetVersion"
    },
    {
     "datasetId": 8282382,
     "sourceId": 13077340,
     "sourceType": "datasetVersion"
    }
   ],
   "dockerImageVersionId": 31089,
   "isGpuEnabled": true,
   "isInternetEnabled": true,
   "language": "python",
   "sourceType": "notebook"
  },
  "kernelspec": {
   "display_name": "Python 3",
   "language": "python",
   "name": "python3"
  },
  "language_info": {
   "codemirror_mode": {
    "name": "ipython",
    "version": 3
   },
   "file_extension": ".py",
   "mimetype": "text/x-python",
   "name": "python",
   "nbconvert_exporter": "python",
   "pygments_lexer": "ipython3",
   "version": "3.11.13"
  }
 },
 "nbformat": 4,
 "nbformat_minor": 4
}
