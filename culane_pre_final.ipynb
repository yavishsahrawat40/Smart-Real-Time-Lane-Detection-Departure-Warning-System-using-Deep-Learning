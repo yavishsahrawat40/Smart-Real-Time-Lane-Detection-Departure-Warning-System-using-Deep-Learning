{
 "cells": [
  {
   "cell_type": "code",
   "execution_count": 1,
   "id": "23fc1de9",
   "metadata": {},
   "outputs": [],
   "source": [
    "import json\n",
    "import os"
   ]
  },
  {
   "cell_type": "code",
   "execution_count": 2,
   "id": "ee26e7f6",
   "metadata": {},
   "outputs": [],
   "source": [
    "# --- Config ---\n",
    "CULANE_ROOT = \"CULane\"   # Root folder of your dataset\n",
    "SPLIT = \"val\"          # change to \"val\" or \"test\" if needed\n",
    "TXT_FILE_PATH = os.path.join(CULANE_ROOT, f\"list/{SPLIT}_gt.txt\")\n",
    "OUTPUT_JSON_PATH = os.path.join(CULANE_ROOT, f\"culane_{SPLIT}_annotations.json\")"
   ]
  },
  {
   "cell_type": "code",
   "execution_count": 3,
   "id": "f591dac2",
   "metadata": {},
   "outputs": [
    {
     "name": "stdout",
     "output_type": "stream",
     "text": [
      "📂 Parsing CULane\\list/val_gt.txt...\n",
      "Processed 5000 lines...\n"
     ]
    }
   ],
   "source": [
    "# --- Storage ---\n",
    "culane_annotations = []\n",
    "\n",
    "print(f\"📂 Parsing {TXT_FILE_PATH}...\")\n",
    "\n",
    "# --- File Reading ---\n",
    "if not os.path.exists(TXT_FILE_PATH):\n",
    "    raise FileNotFoundError(f\"❌ Annotation list file not found: {TXT_FILE_PATH}\")\n",
    "\n",
    "with open(TXT_FILE_PATH, \"r\") as f:\n",
    "    for idx, line in enumerate(f, 1):\n",
    "        parts = line.strip().split()\n",
    "\n",
    "        # Ensure at least 2 fields: image + mask\n",
    "        if len(parts) < 2:\n",
    "            print(f\"⚠️ Skipping malformed line {idx}: {line.strip()}\")\n",
    "            continue\n",
    "\n",
    "        image_relative_path = parts[0]\n",
    "        mask_relative_path = parts[1]\n",
    "\n",
    "        # Normalize paths\n",
    "        full_image_path = os.path.join(CULANE_ROOT, image_relative_path.lstrip(\"/\"))\n",
    "        full_mask_path = os.path.join(CULANE_ROOT, mask_relative_path.lstrip(\"/\"))\n",
    "\n",
    "        # Check existence (optional but useful)\n",
    "        if not os.path.exists(full_image_path):\n",
    "            print(f\"⚠️ Missing image: {full_image_path}\")\n",
    "            continue\n",
    "        if not os.path.exists(full_mask_path):\n",
    "            print(f\"⚠️ Missing mask: {full_mask_path}\")\n",
    "            continue\n",
    "\n",
    "        # Append entry\n",
    "        culane_annotations.append({\n",
    "            \"image\": full_image_path,\n",
    "            \"mask\": full_mask_path\n",
    "        })\n",
    "\n",
    "        # Progress log every 5000 samples\n",
    "        if idx % 5000 == 0:\n",
    "            print(f\"Processed {idx} lines...\")\n"
   ]
  },
  {
   "cell_type": "code",
   "execution_count": 4,
   "id": "adef5a68",
   "metadata": {},
   "outputs": [
    {
     "name": "stdout",
     "output_type": "stream",
     "text": [
      "✅ Done! Saved 9675 annotations → CULane\\culane_val_annotations.json\n"
     ]
    }
   ],
   "source": [
    "# --- Save JSON ---\n",
    "with open(OUTPUT_JSON_PATH, \"w\") as f:\n",
    "    json.dump(culane_annotations, f, indent=2)\n",
    "\n",
    "print(f\"✅ Done! Saved {len(culane_annotations)} annotations → {OUTPUT_JSON_PATH}\")\n"
   ]
  },
  {
   "cell_type": "code",
   "execution_count": null,
   "id": "47cfbbd3",
   "metadata": {},
   "outputs": [],
   "source": []
  }
 ],
 "metadata": {
  "kernelspec": {
   "display_name": "lane_detect",
   "language": "python",
   "name": "python3"
  },
  "language_info": {
   "codemirror_mode": {
    "name": "ipython",
    "version": 3
   },
   "file_extension": ".py",
   "mimetype": "text/x-python",
   "name": "python",
   "nbconvert_exporter": "python",
   "pygments_lexer": "ipython3",
   "version": "3.10.18"
  }
 },
 "nbformat": 4,
 "nbformat_minor": 5
}
